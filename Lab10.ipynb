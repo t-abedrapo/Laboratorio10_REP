{
  "cells": [
    {
      "cell_type": "markdown",
      "metadata": {
        "cell_id": "6db569e7c5d04f9e9b48cb129df732fc",
        "deepnote_cell_type": "markdown",
        "id": "XUZ1dFPHzAHl"
      },
      "source": [
        "<h1><center>Laboratorio 10: Interpretabilidad 🤖</center></h1>\n",
        "\n",
        "<center><strong>MDS7202: Laboratorio de Programación Científica para Ciencia de Datos</strong></center>"
      ]
    },
    {
      "cell_type": "markdown",
      "metadata": {
        "cell_id": "737a4540885f41acb34b9863a968b907",
        "deepnote_cell_type": "markdown",
        "id": "UD8X1uhGzAHq"
      },
      "source": [
        "### Cuerpo Docente:\n",
        "\n",
        "- Profesor: Ignacio Meza, Sebastian Tinoco\n",
        "- Auxiliar: Catherine Benavides, Consuelo Rojas\n",
        "- Ayudante: Eduardo Moya, Nicolás Ojeda"
      ]
    },
    {
      "cell_type": "markdown",
      "metadata": {
        "cell_id": "e4a6f26138654eb49ee963fb4c7ecf46",
        "deepnote_cell_type": "markdown",
        "id": "tXflExjqzAHr"
      },
      "source": [
        "### Equipo: SUPER IMPORTANTE - notebooks sin nombre no serán revisados\n",
        "\n",
        "- Nombre de alumno: **Tomás Aberapo**\n"
      ]
    },
    {
      "cell_type": "markdown",
      "metadata": {
        "cell_id": "7dd4aaebd4f44063aedbb47ea36349a5",
        "deepnote_cell_type": "markdown",
        "id": "AD-V0bbZzAHr",
        "owner_user_id": "badcc427-fd3d-4615-9296-faa43ec69cfb"
      },
      "source": [
        "### **Link de repositorio de GitHub:** `https://github.com/t-abedrapo/Laboratorio10_REP.git`"
      ]
    },
    {
      "cell_type": "markdown",
      "metadata": {
        "cell_id": "abe08e51696a471e8cc8ac1fa4216f0b",
        "deepnote_cell_type": "markdown",
        "id": "EcnsiQMkzAHr"
      },
      "source": [
        "### Indice\n",
        "\n",
        "1. [Temas a tratar](#Temas-a-tratar:)\n",
        "3. [Descripcción del laboratorio](#Descripción-del-laboratorio.)\n",
        "4. [Desarrollo](#Desarrollo)"
      ]
    },
    {
      "cell_type": "markdown",
      "metadata": {
        "cell_id": "0174e9377ebb43eaa0d12718db4c81ec",
        "deepnote_cell_type": "markdown",
        "id": "6uBLPj1PzAHs"
      },
      "source": [
        "## Temas a tratar\n",
        "\n",
        "- Clasificación usando `XGBoost`.\n",
        "- Métodos Agnósticos Globales de Interpretabilidad (`Partial Dependence Plot`, `Permutation Feature Importance`)\n",
        "- Métodos Agnósticos Locales de Interpretabilidad (`Scoped Rules`, `SHAP`)\n",
        "\n",
        "## Reglas:\n",
        "\n",
        "- **Grupos de 2 personas**\n",
        "- Asistencia **obligatoria** a instrucciones del lab (viernes 16.15). Luego, pueden quedarse trabajando en las salas o irse.\n",
        "- **No se revisarán entregas de personas ausentes**.\n",
        "- Cualquier duda fuera del horario de clases al foro. Mensajes al equipo docente serán respondidos por este medio.\n",
        "- Prohibidas las copias.\n",
        "- Pueden usar cualquer matrial del curso que estimen conveniente.\n",
        "\n",
        "### Objetivos principales del laboratorio\n",
        "\n",
        "- Generar un pipeline de clasificación con `XGBoost`.\n",
        "- Implementar modelos de interpretabilidad para explicar el funcionamiento del modelo de clasificación.\n",
        "\n",
        "El laboratorio deberá ser desarrollado sin el uso indiscriminado de iteradores nativos de python (aka \"for\", \"while\"). La idea es que aprendan a exprimir al máximo las funciones optimizadas que nos entrega `pandas`, las cuales vale mencionar, son bastante más eficientes que los iteradores nativos sobre DataFrames."
      ]
    },
    {
      "cell_type": "markdown",
      "metadata": {
        "cell_id": "e2c4f9b4097846b680f8d1c500aa49df",
        "deepnote_cell_type": "markdown",
        "id": "xpOTbQcxbSiy"
      },
      "source": [
        "# 1. Problemas Clínicos del Dr. Simi"
      ]
    },
    {
      "cell_type": "markdown",
      "metadata": {
        "cell_id": "2911f2d6934f43fe8950320d84f3b031",
        "deepnote_cell_type": "markdown",
        "id": "3Q93vbNS25bM"
      },
      "source": [
        "<p align=\"center\">\n",
        "  <img src=\"https://gantz.cl/wp-content/uploads/2020/01/79024136_2718114448239059_7240913062570491904_o.jpg\" width=\"350\">\n",
        "</p>"
      ]
    },
    {
      "cell_type": "markdown",
      "metadata": {
        "cell_id": "2bb2213a347e4d55bfc8fea55068a88f",
        "deepnote_cell_type": "markdown",
        "id": "Bi7JI3YNQy7L"
      },
      "source": [
        "El reconocido **Dr. Simi**, famoso vendedor de medicamentos en latinoamerica, debido a la creciente prevalencia de enfermedades crónicas, como la diabetes, decidió abrir una clínica especializada en el tratamiento de esta enfermedad en nuestro país.\n",
        "\n",
        "La clínica del Doctor Simi se convirtió en un lugar donde los pacientes con diabetes podrían recibir atención médica integral. El personal médico estaba compuesto por especialistas en endocrinología, nutrición y enfermería, todos capacitados en el manejo de la diabetes.\n",
        "\n",
        "Sin embargo él se ha dado cuenta que los tiempos han cambiado y gracias a las tecnologías es posible generar mejores predicciones en la diabetes conociendo el historial médico de las personas. Por esto, el doctor se ha colocado una meta de incluir modelos de machine learning dentro de sus clínicas, para ello le ha solicitado crear un modelo capaz de predecir/clasificar diabetes pero le rogó que el desarrollo del modelo tuviera un especial enfoque en la interpretabilidad de lo que hace su modelo.\n",
        "\n",
        "Para que usted pueda entrenar el modelo, Dr. Simi le ha entregado un dataset de todos los clientes que fueron detectados con diabetes a lo largo de la historia de la clinica. Con ello, adjunta el historial médico de las personas en forma de datos tabulares para que usted pueda realizar fácilmente la clasificación.\n"
      ]
    },
    {
      "cell_type": "code",
      "execution_count": 1,
      "metadata": {
        "colab": {
          "base_uri": "https://localhost:8080/"
        },
        "id": "JMA1Pggtw87F",
        "outputId": "7185a663-c856-437a-e172-a576f1a89216"
      },
      "outputs": [
        {
          "name": "stdout",
          "output_type": "stream",
          "text": [
            "Mounted at /content/drive\n"
          ]
        }
      ],
      "source": [
        "# Si usted está utilizando Colabolatory le puede ser útil este código para cargar los archivos.\n",
        "try:\n",
        "    from google.colab import drive\n",
        "    drive.mount(\"/content/drive\")\n",
        "    path = 'Dirección donde tiene los archivos en el Drive'\n",
        "except:\n",
        "    print('Ignorando conexión drive-colab')"
      ]
    },
    {
      "cell_type": "code",
      "execution_count": 2,
      "metadata": {
        "cell_id": "3252f09552814a80ac2d5e3cc67a1447",
        "colab": {
          "base_uri": "https://localhost:8080/",
          "height": 226
        },
        "deepnote_cell_type": "code",
        "deepnote_to_be_reexecuted": false,
        "execution_millis": 294,
        "execution_start": 1686884002582,
        "id": "bED3w3tDbSCf",
        "outputId": "cb776ad4-e009-43f7-fa15-6483e711cebf",
        "source_hash": "fa5e6129"
      },
      "outputs": [
        {
          "data": {
            "application/vnd.google.colaboratory.intrinsic+json": {
              "summary": "{\n  \"name\": \"df\",\n  \"rows\": 70692,\n  \"fields\": [\n    {\n      \"column\": \"Age\",\n      \"properties\": {\n        \"dtype\": \"number\",\n        \"std\": 2.852153109951346,\n        \"min\": 1.0,\n        \"max\": 13.0,\n        \"num_unique_values\": 13,\n        \"samples\": [\n          5.0,\n          10.0,\n          4.0\n        ],\n        \"semantic_type\": \"\",\n        \"description\": \"\"\n      }\n    },\n    {\n      \"column\": \"Sex\",\n      \"properties\": {\n        \"dtype\": \"number\",\n        \"std\": 0.49815079394587164,\n        \"min\": 0.0,\n        \"max\": 1.0,\n        \"num_unique_values\": 2,\n        \"samples\": [\n          0.0,\n          1.0\n        ],\n        \"semantic_type\": \"\",\n        \"description\": \"\"\n      }\n    },\n    {\n      \"column\": \"HighChol\",\n      \"properties\": {\n        \"dtype\": \"number\",\n        \"std\": 0.4993424480263363,\n        \"min\": 0.0,\n        \"max\": 1.0,\n        \"num_unique_values\": 2,\n        \"samples\": [\n          1.0,\n          0.0\n        ],\n        \"semantic_type\": \"\",\n        \"description\": \"\"\n      }\n    },\n    {\n      \"column\": \"CholCheck\",\n      \"properties\": {\n        \"dtype\": \"number\",\n        \"std\": 0.15533624280406613,\n        \"min\": 0.0,\n        \"max\": 1.0,\n        \"num_unique_values\": 2,\n        \"samples\": [\n          0.0,\n          1.0\n        ],\n        \"semantic_type\": \"\",\n        \"description\": \"\"\n      }\n    },\n    {\n      \"column\": \"BMI\",\n      \"properties\": {\n        \"dtype\": \"number\",\n        \"std\": 7.1139538515768415,\n        \"min\": 12.0,\n        \"max\": 98.0,\n        \"num_unique_values\": 80,\n        \"samples\": [\n          69.0,\n          26.0\n        ],\n        \"semantic_type\": \"\",\n        \"description\": \"\"\n      }\n    },\n    {\n      \"column\": \"Smoker\",\n      \"properties\": {\n        \"dtype\": \"number\",\n        \"std\": 0.49939173411078236,\n        \"min\": 0.0,\n        \"max\": 1.0,\n        \"num_unique_values\": 2,\n        \"samples\": [\n          1.0,\n          0.0\n        ],\n        \"semantic_type\": \"\",\n        \"description\": \"\"\n      }\n    },\n    {\n      \"column\": \"HeartDiseaseorAttack\",\n      \"properties\": {\n        \"dtype\": \"number\",\n        \"std\": 0.35491427136194237,\n        \"min\": 0.0,\n        \"max\": 1.0,\n        \"num_unique_values\": 2,\n        \"samples\": [\n          1.0,\n          0.0\n        ],\n        \"semantic_type\": \"\",\n        \"description\": \"\"\n      }\n    },\n    {\n      \"column\": \"PhysActivity\",\n      \"properties\": {\n        \"dtype\": \"number\",\n        \"std\": 0.4569239063509666,\n        \"min\": 0.0,\n        \"max\": 1.0,\n        \"num_unique_values\": 2,\n        \"samples\": [\n          0.0,\n          1.0\n        ],\n        \"semantic_type\": \"\",\n        \"description\": \"\"\n      }\n    },\n    {\n      \"column\": \"Fruits\",\n      \"properties\": {\n        \"dtype\": \"number\",\n        \"std\": 0.4873451303661201,\n        \"min\": 0.0,\n        \"max\": 1.0,\n        \"num_unique_values\": 2,\n        \"samples\": [\n          1.0,\n          0.0\n        ],\n        \"semantic_type\": \"\",\n        \"description\": \"\"\n      }\n    },\n    {\n      \"column\": \"Veggies\",\n      \"properties\": {\n        \"dtype\": \"number\",\n        \"std\": 0.4081813673269233,\n        \"min\": 0.0,\n        \"max\": 1.0,\n        \"num_unique_values\": 2,\n        \"samples\": [\n          0.0,\n          1.0\n        ],\n        \"semantic_type\": \"\",\n        \"description\": \"\"\n      }\n    },\n    {\n      \"column\": \"HvyAlcoholConsump\",\n      \"properties\": {\n        \"dtype\": \"number\",\n        \"std\": 0.20222776421845534,\n        \"min\": 0.0,\n        \"max\": 1.0,\n        \"num_unique_values\": 2,\n        \"samples\": [\n          1.0,\n          0.0\n        ],\n        \"semantic_type\": \"\",\n        \"description\": \"\"\n      }\n    },\n    {\n      \"column\": \"GenHlth\",\n      \"properties\": {\n        \"dtype\": \"number\",\n        \"std\": 1.1135645170395372,\n        \"min\": 1.0,\n        \"max\": 5.0,\n        \"num_unique_values\": 5,\n        \"samples\": [\n          1.0,\n          5.0\n        ],\n        \"semantic_type\": \"\",\n        \"description\": \"\"\n      }\n    },\n    {\n      \"column\": \"MentHlth\",\n      \"properties\": {\n        \"dtype\": \"number\",\n        \"std\": 8.155626553608068,\n        \"min\": 0.0,\n        \"max\": 30.0,\n        \"num_unique_values\": 31,\n        \"samples\": [\n          24.0,\n          29.0\n        ],\n        \"semantic_type\": \"\",\n        \"description\": \"\"\n      }\n    },\n    {\n      \"column\": \"PhysHlth\",\n      \"properties\": {\n        \"dtype\": \"number\",\n        \"std\": 10.06226053116389,\n        \"min\": 0.0,\n        \"max\": 30.0,\n        \"num_unique_values\": 31,\n        \"samples\": [\n          16.0,\n          8.0\n        ],\n        \"semantic_type\": \"\",\n        \"description\": \"\"\n      }\n    },\n    {\n      \"column\": \"DiffWalk\",\n      \"properties\": {\n        \"dtype\": \"number\",\n        \"std\": 0.43458059612338573,\n        \"min\": 0.0,\n        \"max\": 1.0,\n        \"num_unique_values\": 2,\n        \"samples\": [\n          1.0,\n          0.0\n        ],\n        \"semantic_type\": \"\",\n        \"description\": \"\"\n      }\n    },\n    {\n      \"column\": \"Stroke\",\n      \"properties\": {\n        \"dtype\": \"number\",\n        \"std\": 0.2414677753677079,\n        \"min\": 0.0,\n        \"max\": 1.0,\n        \"num_unique_values\": 2,\n        \"samples\": [\n          1.0,\n          0.0\n        ],\n        \"semantic_type\": \"\",\n        \"description\": \"\"\n      }\n    },\n    {\n      \"column\": \"HighBP\",\n      \"properties\": {\n        \"dtype\": \"number\",\n        \"std\": 0.49596019315986145,\n        \"min\": 0.0,\n        \"max\": 1.0,\n        \"num_unique_values\": 2,\n        \"samples\": [\n          0.0,\n          1.0\n        ],\n        \"semantic_type\": \"\",\n        \"description\": \"\"\n      }\n    },\n    {\n      \"column\": \"Diabetes\",\n      \"properties\": {\n        \"dtype\": \"number\",\n        \"std\": 0.5000035365055789,\n        \"min\": 0.0,\n        \"max\": 1.0,\n        \"num_unique_values\": 2,\n        \"samples\": [\n          1.0,\n          0.0\n        ],\n        \"semantic_type\": \"\",\n        \"description\": \"\"\n      }\n    }\n  ]\n}",
              "type": "dataframe",
              "variable_name": "df"
            },
            "text/html": [
              "\n",
              "  <div id=\"df-cec1df53-77bb-4592-968a-7d9772758b87\" class=\"colab-df-container\">\n",
              "    <div>\n",
              "<style scoped>\n",
              "    .dataframe tbody tr th:only-of-type {\n",
              "        vertical-align: middle;\n",
              "    }\n",
              "\n",
              "    .dataframe tbody tr th {\n",
              "        vertical-align: top;\n",
              "    }\n",
              "\n",
              "    .dataframe thead th {\n",
              "        text-align: right;\n",
              "    }\n",
              "</style>\n",
              "<table border=\"1\" class=\"dataframe\">\n",
              "  <thead>\n",
              "    <tr style=\"text-align: right;\">\n",
              "      <th></th>\n",
              "      <th>Age</th>\n",
              "      <th>Sex</th>\n",
              "      <th>HighChol</th>\n",
              "      <th>CholCheck</th>\n",
              "      <th>BMI</th>\n",
              "      <th>Smoker</th>\n",
              "      <th>HeartDiseaseorAttack</th>\n",
              "      <th>PhysActivity</th>\n",
              "      <th>Fruits</th>\n",
              "      <th>Veggies</th>\n",
              "      <th>HvyAlcoholConsump</th>\n",
              "      <th>GenHlth</th>\n",
              "      <th>MentHlth</th>\n",
              "      <th>PhysHlth</th>\n",
              "      <th>DiffWalk</th>\n",
              "      <th>Stroke</th>\n",
              "      <th>HighBP</th>\n",
              "      <th>Diabetes</th>\n",
              "    </tr>\n",
              "  </thead>\n",
              "  <tbody>\n",
              "    <tr>\n",
              "      <th>0</th>\n",
              "      <td>4.0</td>\n",
              "      <td>1.0</td>\n",
              "      <td>0.0</td>\n",
              "      <td>1.0</td>\n",
              "      <td>26.0</td>\n",
              "      <td>0.0</td>\n",
              "      <td>0.0</td>\n",
              "      <td>1.0</td>\n",
              "      <td>0.0</td>\n",
              "      <td>1.0</td>\n",
              "      <td>0.0</td>\n",
              "      <td>3.0</td>\n",
              "      <td>5.0</td>\n",
              "      <td>30.0</td>\n",
              "      <td>0.0</td>\n",
              "      <td>0.0</td>\n",
              "      <td>1.0</td>\n",
              "      <td>0.0</td>\n",
              "    </tr>\n",
              "    <tr>\n",
              "      <th>1</th>\n",
              "      <td>12.0</td>\n",
              "      <td>1.0</td>\n",
              "      <td>1.0</td>\n",
              "      <td>1.0</td>\n",
              "      <td>26.0</td>\n",
              "      <td>1.0</td>\n",
              "      <td>0.0</td>\n",
              "      <td>0.0</td>\n",
              "      <td>1.0</td>\n",
              "      <td>0.0</td>\n",
              "      <td>0.0</td>\n",
              "      <td>3.0</td>\n",
              "      <td>0.0</td>\n",
              "      <td>0.0</td>\n",
              "      <td>0.0</td>\n",
              "      <td>1.0</td>\n",
              "      <td>1.0</td>\n",
              "      <td>0.0</td>\n",
              "    </tr>\n",
              "    <tr>\n",
              "      <th>2</th>\n",
              "      <td>13.0</td>\n",
              "      <td>1.0</td>\n",
              "      <td>0.0</td>\n",
              "      <td>1.0</td>\n",
              "      <td>26.0</td>\n",
              "      <td>0.0</td>\n",
              "      <td>0.0</td>\n",
              "      <td>1.0</td>\n",
              "      <td>1.0</td>\n",
              "      <td>1.0</td>\n",
              "      <td>0.0</td>\n",
              "      <td>1.0</td>\n",
              "      <td>0.0</td>\n",
              "      <td>10.0</td>\n",
              "      <td>0.0</td>\n",
              "      <td>0.0</td>\n",
              "      <td>0.0</td>\n",
              "      <td>0.0</td>\n",
              "    </tr>\n",
              "    <tr>\n",
              "      <th>3</th>\n",
              "      <td>11.0</td>\n",
              "      <td>1.0</td>\n",
              "      <td>1.0</td>\n",
              "      <td>1.0</td>\n",
              "      <td>28.0</td>\n",
              "      <td>1.0</td>\n",
              "      <td>0.0</td>\n",
              "      <td>1.0</td>\n",
              "      <td>1.0</td>\n",
              "      <td>1.0</td>\n",
              "      <td>0.0</td>\n",
              "      <td>3.0</td>\n",
              "      <td>0.0</td>\n",
              "      <td>3.0</td>\n",
              "      <td>0.0</td>\n",
              "      <td>0.0</td>\n",
              "      <td>1.0</td>\n",
              "      <td>0.0</td>\n",
              "    </tr>\n",
              "    <tr>\n",
              "      <th>4</th>\n",
              "      <td>8.0</td>\n",
              "      <td>0.0</td>\n",
              "      <td>0.0</td>\n",
              "      <td>1.0</td>\n",
              "      <td>29.0</td>\n",
              "      <td>1.0</td>\n",
              "      <td>0.0</td>\n",
              "      <td>1.0</td>\n",
              "      <td>1.0</td>\n",
              "      <td>1.0</td>\n",
              "      <td>0.0</td>\n",
              "      <td>2.0</td>\n",
              "      <td>0.0</td>\n",
              "      <td>0.0</td>\n",
              "      <td>0.0</td>\n",
              "      <td>0.0</td>\n",
              "      <td>0.0</td>\n",
              "      <td>0.0</td>\n",
              "    </tr>\n",
              "  </tbody>\n",
              "</table>\n",
              "</div>\n",
              "    <div class=\"colab-df-buttons\">\n",
              "\n",
              "  <div class=\"colab-df-container\">\n",
              "    <button class=\"colab-df-convert\" onclick=\"convertToInteractive('df-cec1df53-77bb-4592-968a-7d9772758b87')\"\n",
              "            title=\"Convert this dataframe to an interactive table.\"\n",
              "            style=\"display:none;\">\n",
              "\n",
              "  <svg xmlns=\"http://www.w3.org/2000/svg\" height=\"24px\" viewBox=\"0 -960 960 960\">\n",
              "    <path d=\"M120-120v-720h720v720H120Zm60-500h600v-160H180v160Zm220 220h160v-160H400v160Zm0 220h160v-160H400v160ZM180-400h160v-160H180v160Zm440 0h160v-160H620v160ZM180-180h160v-160H180v160Zm440 0h160v-160H620v160Z\"/>\n",
              "  </svg>\n",
              "    </button>\n",
              "\n",
              "  <style>\n",
              "    .colab-df-container {\n",
              "      display:flex;\n",
              "      gap: 12px;\n",
              "    }\n",
              "\n",
              "    .colab-df-convert {\n",
              "      background-color: #E8F0FE;\n",
              "      border: none;\n",
              "      border-radius: 50%;\n",
              "      cursor: pointer;\n",
              "      display: none;\n",
              "      fill: #1967D2;\n",
              "      height: 32px;\n",
              "      padding: 0 0 0 0;\n",
              "      width: 32px;\n",
              "    }\n",
              "\n",
              "    .colab-df-convert:hover {\n",
              "      background-color: #E2EBFA;\n",
              "      box-shadow: 0px 1px 2px rgba(60, 64, 67, 0.3), 0px 1px 3px 1px rgba(60, 64, 67, 0.15);\n",
              "      fill: #174EA6;\n",
              "    }\n",
              "\n",
              "    .colab-df-buttons div {\n",
              "      margin-bottom: 4px;\n",
              "    }\n",
              "\n",
              "    [theme=dark] .colab-df-convert {\n",
              "      background-color: #3B4455;\n",
              "      fill: #D2E3FC;\n",
              "    }\n",
              "\n",
              "    [theme=dark] .colab-df-convert:hover {\n",
              "      background-color: #434B5C;\n",
              "      box-shadow: 0px 1px 3px 1px rgba(0, 0, 0, 0.15);\n",
              "      filter: drop-shadow(0px 1px 2px rgba(0, 0, 0, 0.3));\n",
              "      fill: #FFFFFF;\n",
              "    }\n",
              "  </style>\n",
              "\n",
              "    <script>\n",
              "      const buttonEl =\n",
              "        document.querySelector('#df-cec1df53-77bb-4592-968a-7d9772758b87 button.colab-df-convert');\n",
              "      buttonEl.style.display =\n",
              "        google.colab.kernel.accessAllowed ? 'block' : 'none';\n",
              "\n",
              "      async function convertToInteractive(key) {\n",
              "        const element = document.querySelector('#df-cec1df53-77bb-4592-968a-7d9772758b87');\n",
              "        const dataTable =\n",
              "          await google.colab.kernel.invokeFunction('convertToInteractive',\n",
              "                                                    [key], {});\n",
              "        if (!dataTable) return;\n",
              "\n",
              "        const docLinkHtml = 'Like what you see? Visit the ' +\n",
              "          '<a target=\"_blank\" href=https://colab.research.google.com/notebooks/data_table.ipynb>data table notebook</a>'\n",
              "          + ' to learn more about interactive tables.';\n",
              "        element.innerHTML = '';\n",
              "        dataTable['output_type'] = 'display_data';\n",
              "        await google.colab.output.renderOutput(dataTable, element);\n",
              "        const docLink = document.createElement('div');\n",
              "        docLink.innerHTML = docLinkHtml;\n",
              "        element.appendChild(docLink);\n",
              "      }\n",
              "    </script>\n",
              "  </div>\n",
              "\n",
              "\n",
              "<div id=\"df-fecd1cbd-a357-4f83-b310-d0933ae7374e\">\n",
              "  <button class=\"colab-df-quickchart\" onclick=\"quickchart('df-fecd1cbd-a357-4f83-b310-d0933ae7374e')\"\n",
              "            title=\"Suggest charts\"\n",
              "            style=\"display:none;\">\n",
              "\n",
              "<svg xmlns=\"http://www.w3.org/2000/svg\" height=\"24px\"viewBox=\"0 0 24 24\"\n",
              "     width=\"24px\">\n",
              "    <g>\n",
              "        <path d=\"M19 3H5c-1.1 0-2 .9-2 2v14c0 1.1.9 2 2 2h14c1.1 0 2-.9 2-2V5c0-1.1-.9-2-2-2zM9 17H7v-7h2v7zm4 0h-2V7h2v10zm4 0h-2v-4h2v4z\"/>\n",
              "    </g>\n",
              "</svg>\n",
              "  </button>\n",
              "\n",
              "<style>\n",
              "  .colab-df-quickchart {\n",
              "      --bg-color: #E8F0FE;\n",
              "      --fill-color: #1967D2;\n",
              "      --hover-bg-color: #E2EBFA;\n",
              "      --hover-fill-color: #174EA6;\n",
              "      --disabled-fill-color: #AAA;\n",
              "      --disabled-bg-color: #DDD;\n",
              "  }\n",
              "\n",
              "  [theme=dark] .colab-df-quickchart {\n",
              "      --bg-color: #3B4455;\n",
              "      --fill-color: #D2E3FC;\n",
              "      --hover-bg-color: #434B5C;\n",
              "      --hover-fill-color: #FFFFFF;\n",
              "      --disabled-bg-color: #3B4455;\n",
              "      --disabled-fill-color: #666;\n",
              "  }\n",
              "\n",
              "  .colab-df-quickchart {\n",
              "    background-color: var(--bg-color);\n",
              "    border: none;\n",
              "    border-radius: 50%;\n",
              "    cursor: pointer;\n",
              "    display: none;\n",
              "    fill: var(--fill-color);\n",
              "    height: 32px;\n",
              "    padding: 0;\n",
              "    width: 32px;\n",
              "  }\n",
              "\n",
              "  .colab-df-quickchart:hover {\n",
              "    background-color: var(--hover-bg-color);\n",
              "    box-shadow: 0 1px 2px rgba(60, 64, 67, 0.3), 0 1px 3px 1px rgba(60, 64, 67, 0.15);\n",
              "    fill: var(--button-hover-fill-color);\n",
              "  }\n",
              "\n",
              "  .colab-df-quickchart-complete:disabled,\n",
              "  .colab-df-quickchart-complete:disabled:hover {\n",
              "    background-color: var(--disabled-bg-color);\n",
              "    fill: var(--disabled-fill-color);\n",
              "    box-shadow: none;\n",
              "  }\n",
              "\n",
              "  .colab-df-spinner {\n",
              "    border: 2px solid var(--fill-color);\n",
              "    border-color: transparent;\n",
              "    border-bottom-color: var(--fill-color);\n",
              "    animation:\n",
              "      spin 1s steps(1) infinite;\n",
              "  }\n",
              "\n",
              "  @keyframes spin {\n",
              "    0% {\n",
              "      border-color: transparent;\n",
              "      border-bottom-color: var(--fill-color);\n",
              "      border-left-color: var(--fill-color);\n",
              "    }\n",
              "    20% {\n",
              "      border-color: transparent;\n",
              "      border-left-color: var(--fill-color);\n",
              "      border-top-color: var(--fill-color);\n",
              "    }\n",
              "    30% {\n",
              "      border-color: transparent;\n",
              "      border-left-color: var(--fill-color);\n",
              "      border-top-color: var(--fill-color);\n",
              "      border-right-color: var(--fill-color);\n",
              "    }\n",
              "    40% {\n",
              "      border-color: transparent;\n",
              "      border-right-color: var(--fill-color);\n",
              "      border-top-color: var(--fill-color);\n",
              "    }\n",
              "    60% {\n",
              "      border-color: transparent;\n",
              "      border-right-color: var(--fill-color);\n",
              "    }\n",
              "    80% {\n",
              "      border-color: transparent;\n",
              "      border-right-color: var(--fill-color);\n",
              "      border-bottom-color: var(--fill-color);\n",
              "    }\n",
              "    90% {\n",
              "      border-color: transparent;\n",
              "      border-bottom-color: var(--fill-color);\n",
              "    }\n",
              "  }\n",
              "</style>\n",
              "\n",
              "  <script>\n",
              "    async function quickchart(key) {\n",
              "      const quickchartButtonEl =\n",
              "        document.querySelector('#' + key + ' button');\n",
              "      quickchartButtonEl.disabled = true;  // To prevent multiple clicks.\n",
              "      quickchartButtonEl.classList.add('colab-df-spinner');\n",
              "      try {\n",
              "        const charts = await google.colab.kernel.invokeFunction(\n",
              "            'suggestCharts', [key], {});\n",
              "      } catch (error) {\n",
              "        console.error('Error during call to suggestCharts:', error);\n",
              "      }\n",
              "      quickchartButtonEl.classList.remove('colab-df-spinner');\n",
              "      quickchartButtonEl.classList.add('colab-df-quickchart-complete');\n",
              "    }\n",
              "    (() => {\n",
              "      let quickchartButtonEl =\n",
              "        document.querySelector('#df-fecd1cbd-a357-4f83-b310-d0933ae7374e button');\n",
              "      quickchartButtonEl.style.display =\n",
              "        google.colab.kernel.accessAllowed ? 'block' : 'none';\n",
              "    })();\n",
              "  </script>\n",
              "</div>\n",
              "    </div>\n",
              "  </div>\n"
            ],
            "text/plain": [
              "    Age  Sex  HighChol  CholCheck   BMI  Smoker  HeartDiseaseorAttack  \\\n",
              "0   4.0  1.0       0.0        1.0  26.0     0.0                   0.0   \n",
              "1  12.0  1.0       1.0        1.0  26.0     1.0                   0.0   \n",
              "2  13.0  1.0       0.0        1.0  26.0     0.0                   0.0   \n",
              "3  11.0  1.0       1.0        1.0  28.0     1.0                   0.0   \n",
              "4   8.0  0.0       0.0        1.0  29.0     1.0                   0.0   \n",
              "\n",
              "   PhysActivity  Fruits  Veggies  HvyAlcoholConsump  GenHlth  MentHlth  \\\n",
              "0           1.0     0.0      1.0                0.0      3.0       5.0   \n",
              "1           0.0     1.0      0.0                0.0      3.0       0.0   \n",
              "2           1.0     1.0      1.0                0.0      1.0       0.0   \n",
              "3           1.0     1.0      1.0                0.0      3.0       0.0   \n",
              "4           1.0     1.0      1.0                0.0      2.0       0.0   \n",
              "\n",
              "   PhysHlth  DiffWalk  Stroke  HighBP  Diabetes  \n",
              "0      30.0       0.0     0.0     1.0       0.0  \n",
              "1       0.0       0.0     1.0     1.0       0.0  \n",
              "2      10.0       0.0     0.0     0.0       0.0  \n",
              "3       3.0       0.0     0.0     1.0       0.0  \n",
              "4       0.0       0.0     0.0     0.0       0.0  "
            ]
          },
          "execution_count": 2,
          "metadata": {},
          "output_type": "execute_result"
        }
      ],
      "source": [
        "import numpy as np\n",
        "import pandas as pd\n",
        "\n",
        "direccion = '/content/drive/MyDrive/FCFM/Eléctrica Sem7/MDS7202 Laboratorio de Programación/Laboratorios MDS7202/Lab10 MDS7202/data_lab10/diabetes_data.csv'\n",
        "\n",
        "df = pd.read_csv(direccion)\n",
        "df.head()"
      ]
    },
    {
      "cell_type": "code",
      "execution_count": 3,
      "metadata": {
        "colab": {
          "base_uri": "https://localhost:8080/"
        },
        "id": "6AfTQZupyhU_",
        "outputId": "7ed54c2c-9d06-427a-bf5f-d26f731b6513"
      },
      "outputs": [
        {
          "data": {
            "text/plain": [
              "Age                     0\n",
              "Sex                     0\n",
              "HighChol                0\n",
              "CholCheck               0\n",
              "BMI                     0\n",
              "Smoker                  0\n",
              "HeartDiseaseorAttack    0\n",
              "PhysActivity            0\n",
              "Fruits                  0\n",
              "Veggies                 0\n",
              "HvyAlcoholConsump       0\n",
              "GenHlth                 0\n",
              "MentHlth                0\n",
              "PhysHlth                0\n",
              "DiffWalk                0\n",
              "Stroke                  0\n",
              "HighBP                  0\n",
              "Diabetes                0\n",
              "dtype: int64"
            ]
          },
          "execution_count": 3,
          "metadata": {},
          "output_type": "execute_result"
        }
      ],
      "source": [
        "#valores nulos:\n",
        "df.isna().sum()"
      ]
    },
    {
      "cell_type": "markdown",
      "metadata": {
        "cell_id": "2fa50e56411a46858d61f2a42b715ee8",
        "deepnote_cell_type": "markdown",
        "id": "ghYBow5eQy7N"
      },
      "source": [
        "## 2. Clasificación de pacientes con diabetes (0.5 puntos)\n",
        "\n",
        "<p align=\"center\">\n",
        "  <img src=\"https://media.tenor.com/QH--g3ZaSbsAAAAC/dr-simi-abrazo.gif\" width=\"400\">\n",
        "</p>"
      ]
    },
    {
      "cell_type": "markdown",
      "metadata": {
        "cell_id": "d9f2091b610941f989e7720573424d8a",
        "deepnote_cell_type": "markdown",
        "id": "jnmZfFpxTTYX"
      },
      "source": [
        "Tareas:\n",
        "1. En primer lugar, el reconocido doctor le pide entrenar un modelo de `XGBoost` utilizando como target la columna `Diabetes` del dataset `diabetes_data.csv`. Para el entrenamiento tome en cuenta **todos** los pasos necesarios para entrenar un modelo de aprendizaje supervisado vistos hasta la fecha (use `Pipeline`, `ColumnTransformer`, etc.). Comente sus decisiones y los resultados obtenidos con el modelo.\n",
        "\n",
        "2. Luego, le pide responder las siguientes preguntas:\n",
        "  *  ¿Es acaso un buen predictor de diabetes?,\n",
        "  * ¿Qué buscan explicar las métricas utilizadas?\n",
        "  * ¿Las métricas utilizadas para medir la predictibilidad le permiten asegurar que su modelo haga una buena elección de las features?"
      ]
    },
    {
      "cell_type": "code",
      "execution_count": 4,
      "metadata": {
        "cell_id": "85306f784b434ca1a6db2d4751525cf0",
        "colab": {
          "base_uri": "https://localhost:8080/"
        },
        "deepnote_cell_type": "code",
        "deepnote_to_be_reexecuted": false,
        "execution_millis": 11299,
        "execution_start": 1686884005212,
        "id": "eJXc0TpLQy7O",
        "outputId": "1fd27b36-d1a9-48d6-95c0-1e585e419067",
        "source_hash": "4d27a39e"
      },
      "outputs": [
        {
          "name": "stdout",
          "output_type": "stream",
          "text": [
            "Requirement already satisfied: xgboost in /usr/local/lib/python3.10/dist-packages (2.0.3)\n",
            "Requirement already satisfied: numpy in /usr/local/lib/python3.10/dist-packages (from xgboost) (1.25.2)\n",
            "Requirement already satisfied: scipy in /usr/local/lib/python3.10/dist-packages (from xgboost) (1.11.4)\n"
          ]
        }
      ],
      "source": [
        "!pip install xgboost"
      ]
    },
    {
      "cell_type": "code",
      "execution_count": 5,
      "metadata": {
        "colab": {
          "base_uri": "https://localhost:8080/"
        },
        "id": "gYMZfZjC0A8s",
        "outputId": "605b4bde-202b-4278-9a32-6d7f56a71b62"
      },
      "outputs": [
        {
          "name": "stdout",
          "output_type": "stream",
          "text": [
            "Age [ 4. 12. 13. 11.  8.  1.  6.  3.  7. 10.  9.  5.  2.]\n",
            "Sex [1. 0.]\n",
            "HighChol [0. 1.]\n",
            "CholCheck [1. 0.]\n",
            "BMI [26. 28. 29. 18. 31. 32. 27. 24. 21. 58. 30. 20. 22. 38. 40. 25. 36. 47.\n",
            " 19. 37. 41. 23. 34. 35. 42. 17. 33. 44. 15. 52. 69. 56. 45. 39. 92. 53.\n",
            " 98. 50. 46. 79. 48. 16. 63. 72. 54. 49. 68. 43. 84. 73. 76. 55. 51. 75.\n",
            " 57. 60. 12. 77. 82. 67. 71. 61. 14. 81. 59. 86. 13. 87. 65. 95. 89. 62.\n",
            " 64. 66. 85. 70. 83. 80. 78. 74.]\n",
            "Smoker [0. 1.]\n",
            "HeartDiseaseorAttack [0. 1.]\n",
            "PhysActivity [1. 0.]\n",
            "Fruits [0. 1.]\n",
            "Veggies [1. 0.]\n",
            "HvyAlcoholConsump [0. 1.]\n",
            "GenHlth [3. 1. 2. 4. 5.]\n",
            "MentHlth [ 5.  0.  7.  3.  4.  2. 30. 20.  1. 15. 10. 25. 14. 28.  6. 29. 26. 12.\n",
            " 16. 22. 13.  8.  9. 21. 18. 17. 27. 24. 23. 11. 19.]\n",
            "PhysHlth [30.  0. 10.  3.  6.  4. 15.  1.  2. 14.  7. 25. 21. 20.  5.  8. 22. 23.\n",
            " 29. 12. 18. 28. 26. 24. 27. 11. 13. 16. 17.  9. 19.]\n",
            "DiffWalk [0. 1.]\n",
            "Stroke [0. 1.]\n",
            "HighBP [1. 0.]\n",
            "Diabetes [0. 1.]\n"
          ]
        }
      ],
      "source": [
        "for c in df.columns:\n",
        "  print(c,df[c].unique())"
      ]
    },
    {
      "cell_type": "code",
      "execution_count": 6,
      "metadata": {
        "id": "1boCH25xypZl"
      },
      "outputs": [],
      "source": [
        "from xgboost import XGBClassifier\n",
        "from sklearn.pipeline import Pipeline\n",
        "from sklearn.compose import ColumnTransformer\n",
        "from sklearn.impute import SimpleImputer\n",
        "from sklearn.model_selection import train_test_split\n",
        "from sklearn.preprocessing import OneHotEncoder, StandardScaler, MinMaxScaler, FunctionTransformer\n",
        "\n",
        "\n",
        "#semilla y tamaño test\n",
        "re = 42\n",
        "test_size = 0.2\n",
        "#datos input y label\n",
        "y = df['Diabetes']\n",
        "X = df.drop('Diabetes', axis=1)\n",
        "#conjuntos de entrenamiento y test\n",
        "X_train, X_test, y_train, y_test = train_test_split(X, y, test_size=test_size, random_state=re)\n",
        "#Transformer preprocesamiento:\n",
        "#Variables binarias -> Mantener\n",
        "#El resto dependerá si es una variable poblacionas o corresponde a una escala\n",
        "#si se realiza estandarización o minmax\n",
        "scaler_columns = ['Age','BMI']\n",
        "minmax_columns = ['GenHlth','MentHlth','PhysHlth']\n",
        "preprocessor = ColumnTransformer(\n",
        "    transformers=[\n",
        "        ('standard', StandardScaler(), scaler_columns),\n",
        "        ('minmax', MinMaxScaler(), minmax_columns),\n",
        "        ],\n",
        "    remainder='passthrough'\n",
        ")\n",
        "\n",
        "#definir modelo pipeline\n",
        "model = Pipeline(steps=[\n",
        "    ('preprocessor', preprocessor),\n",
        "    ('classifier', XGBClassifier(use_label_encoder=False, eval_metric='logloss'))\n",
        "])\n",
        "#entrenar y predecir\n",
        "model.fit(X_train, y_train)\n",
        "y_pred = model.predict(X_test)"
      ]
    },
    {
      "cell_type": "code",
      "execution_count": 7,
      "metadata": {
        "colab": {
          "base_uri": "https://localhost:8080/",
          "height": 632
        },
        "id": "nQ2TrWnr10ev",
        "outputId": "17d78406-21ff-4751-be97-28111be2a992"
      },
      "outputs": [
        {
          "name": "stdout",
          "output_type": "stream",
          "text": [
            "              precision    recall  f1-score   support\n",
            "\n",
            "         0.0       0.77      0.71      0.74      7090\n",
            "         1.0       0.73      0.79      0.76      7049\n",
            "\n",
            "    accuracy                           0.75     14139\n",
            "   macro avg       0.75      0.75      0.75     14139\n",
            "weighted avg       0.75      0.75      0.75     14139\n",
            "\n"
          ]
        },
        {
          "data": {
            "text/plain": [
              "<sklearn.metrics._plot.confusion_matrix.ConfusionMatrixDisplay at 0x7fb1dfed6d70>"
            ]
          },
          "execution_count": 7,
          "metadata": {},
          "output_type": "execute_result"
        },
        {
          "data": {
            "image/png": "[encoded data removed]",
            "text/plain": [
              "<Figure size 640x480 with 2 Axes>"
            ]
          },
          "metadata": {},
          "output_type": "display_data"
        }
      ],
      "source": [
        "from sklearn.metrics import accuracy_score, classification_report , confusion_matrix, ConfusionMatrixDisplay\n",
        "import matplotlib.pyplot as plt\n",
        "#Métricas\n",
        "print(classification_report(y_test, y_pred))\n",
        "#Matriz de confusión\n",
        "ConfusionMatrixDisplay.from_predictions(y_test, y_pred, cmap=plt.cm.Blues, normalize=\"true\")"
      ]
    },
    {
      "cell_type": "markdown",
      "metadata": {
        "id": "MkQ5haeW2GPt"
      },
      "source": [
        "Como podemos apreciar, se llego a una precision, accuarcy y recall de 75%, hay un 25% que se esta realizando la predicción incorrecta. También que hay una equidad entre falsos positivos y falsos negativos. Para este problema es de alta prioridad minimizar falsos negativos (personas con la enfermedad que no fueron diagnosticada). Eso lo minimiza la métrica de Recall, que podemos ver que es de 75%, lo que corresponde a un cuarto de falsos negativos de todos los pacientes, no siendo este modelo lo suficientemente efectivo para utilizarse en práctica."
      ]
    },
    {
      "cell_type": "markdown",
      "metadata": {
        "cell_id": "58111a309a0c4aafb323c62c03b9b1d0",
        "deepnote_cell_type": "markdown",
        "id": "FzYGpPhmQy7P"
      },
      "source": [
        "## 3. Importancia de las features con XGBoost (0.5 puntos)\n",
        "\n",
        "<p align=\"center\">\n",
        "  <img src=\"https://media.tenor.com/5JAj5_IiagEAAAAd/dr-simi-dr-simi-dance.gif\" width=\"400\">\n",
        "</p>"
      ]
    },
    {
      "cell_type": "markdown",
      "metadata": {
        "cell_id": "5e0707b14bbd4ed7b4646cba8e7e53cc",
        "deepnote_cell_type": "markdown",
        "id": "jUT2mC5qQy7Q"
      },
      "source": [
        "Tareas:\n",
        "1. Para añadir el toque de interpretabilidad que Dr. Simi le pide, se le pide calcular la **importancia de las features** del modelo entrenado utilizando todos los métodos (*weight*, *cover*, *gain*) que posee xgboost usando `plot_importance`.\n",
        "2. ¿Los resultados obtenidos con los diferentes métodos son compatibles?, comente sus resultados y a que se debe la igualdad o desigualdad que ve en los resultados.\n",
        "3. Finalmente, ¿las importancias obtenidas son suficientes para obtener la interpretabilidad de un modelo que utiliza árboles? ¿Qué debilidad presenta este método?"
      ]
    },
    {
      "cell_type": "code",
      "execution_count": 9,
      "metadata": {
        "cell_id": "32be9645ac03408b98705d22def41265",
        "colab": {
          "base_uri": "https://localhost:8080/",
          "height": 507
        },
        "deepnote_cell_type": "code",
        "deepnote_to_be_reexecuted": false,
        "execution_millis": 2,
        "execution_start": 1686930815998,
        "id": "XVUR5s2jQy7Q",
        "outputId": "004330e6-8a74-4f7e-d9af-974e778884b7",
        "source_hash": "553ccab0"
      },
      "outputs": [
        {
          "data": {
            "image/png": "[encoded data removed]",
            "text/plain": [
              "<Figure size 2000x500 with 3 Axes>"
            ]
          },
          "metadata": {},
          "output_type": "display_data"
        }
      ],
      "source": [
        "from xgboost import  plot_importance\n",
        "\n",
        "xgb_model = model.named_steps['classifier']\n",
        "\n",
        "fig, axs = plt.subplots(1, 3, figsize=(20, 5))\n",
        "\n",
        "plot_importance(xgb_model, importance_type='weight', ax=axs[0], title='Feature Importance (Weight)', show_values=False)\n",
        "plot_importance(xgb_model, importance_type='cover', ax=axs[1], title='Feature Importance (Cover)', show_values=False)\n",
        "plot_importance(xgb_model, importance_type='gain', ax=axs[2], title='Feature Importance (Gain)', show_values=False)\n",
        "\n",
        "axs[0].set_title('Feature Importance by Weight')\n",
        "axs[1].set_title('Feature Importance by Cover')\n",
        "axs[2].set_title('Feature Importance by Gain')\n",
        "\n",
        "plt.show()"
      ]
    },
    {
      "cell_type": "markdown",
      "metadata": {
        "id": "BNeKIUkiuhVu"
      },
      "source": [
        "Como podemos ver los diferentes criterios dieron resultados considerablemente distintos. Esto nos hace saber la complejidad del problema y la necesidad de considerar distintas variables."
      ]
    },
    {
      "cell_type": "markdown",
      "metadata": {
        "cell_id": "37e42da05d404e6988e5cb213124d1a2",
        "deepnote_cell_type": "markdown",
        "id": "cB8wXvM3Qy7Q"
      },
      "source": [
        "## 4. Métodos Agnósticos Globales (1.0 puntos)\n",
        "\n",
        "<p align=\"center\">\n",
        "  <img src=\"https://media.tenor.com/JcRHtjVuXN8AAAAC/dr-simi-farmacias-similares.gif\" width=\"400\">\n",
        "</p>"
      ]
    },
    {
      "cell_type": "markdown",
      "metadata": {
        "cell_id": "2a5763d9e5744d4fb2a5b8c0478b67fd",
        "deepnote_cell_type": "markdown",
        "id": "sDQNwSSqQy7Q"
      },
      "source": [
        "Tareas:\n",
        "1. Para mitigar los problemas encontrados en la sección anterior, Dr. Simi le pide implementar un **método de permutación** que le permita observar la importancia de las features.\n",
        "2. Visualice los resultados de este método en un gráfico.\n",
        "3. Para que su modelo sea consistente, repita el proceso **30 veces** y verifique la desviación estándar de sus resultados (¿Qué señala está?).\n",
        "4. Además, responda las siguientes preguntas:\n",
        "  - ¿Cómo mide la importancia de las features su propuesta?\n",
        "  - ¿Qué features tienen un mayor impacto en la salida del modelo?. Comente las 5 primeras, ¿tienen sentido?\n",
        "  - ¿Cómo cambian sus conclusiones con respecto a las features importances del punto anterior?\n",
        "  - Nombre y explique 3 ventajas y 3 desventajas del método implementado."
      ]
    },
    {
      "cell_type": "code",
      "execution_count": 13,
      "metadata": {
        "cell_id": "83032f5e2894423dbafa952e1d3f89cb",
        "colab": {
          "base_uri": "https://localhost:8080/"
        },
        "deepnote_cell_type": "code",
        "deepnote_to_be_reexecuted": false,
        "execution_millis": 43036,
        "execution_start": 1686882223141,
        "id": "gpug7RLgQy7Q",
        "outputId": "95ea79c2-1e45-49a8-bc3f-b1f023f77b30",
        "source_hash": "c8f2357f"
      },
      "outputs": [
        {
          "name": "stdout",
          "output_type": "stream",
          "text": [
            "Fruits\n",
            "PhysHlth\n",
            "Smoker\n",
            "Veggies\n",
            "PhysActivity\n",
            "Stroke\n",
            "MentHlth\n",
            "Sex\n",
            "CholCheck\n",
            "DiffWalk\n",
            "HvyAlcoholConsump\n",
            "HeartDiseaseorAttack\n",
            "HighChol\n",
            "HighBP\n",
            "Age\n",
            "BMI\n",
            "GenHlth\n"
          ]
        }
      ],
      "source": [
        "from sklearn.inspection import permutation_importance\n",
        "\n",
        "\n",
        "n_repeats = 10\n",
        "p = permutation_importance(model, X_test, y_test, n_repeats=n_repeats, random_state=re, n_jobs=-1)\n",
        "\n",
        "f_importances = p.importances_mean\n",
        "sorted_i = np.argsort(f_importances)\n",
        "n = len(sorted_i)\n",
        "\n",
        "feature_names =  X.columns\n",
        "for i in sorted_i:\n",
        "  print(feature_names[i])"
      ]
    },
    {
      "cell_type": "code",
      "execution_count": 20,
      "metadata": {
        "colab": {
          "base_uri": "https://localhost:8080/",
          "height": 472
        },
        "id": "Nh1eSzrIyBWJ",
        "outputId": "9811c473-2582-4b62-b988-c9eb42cf6196"
      },
      "outputs": [
        {
          "data": {
            "image/png": "[encoded data removed]",
            "text/plain": [
              "<Figure size 640x480 with 1 Axes>"
            ]
          },
          "metadata": {},
          "output_type": "display_data"
        }
      ],
      "source": [
        "\n",
        "plt.barh(range(n), f_importances[sorted_i])\n",
        "plt.yticks(range(n), feature_names[sorted_i])\n",
        "plt.xlabel(\"Permuted Feature Importance\")\n",
        "plt.title(\"Feature Importances using Permutation Method\")\n",
        "plt.show()"
      ]
    },
    {
      "cell_type": "markdown",
      "metadata": {
        "id": "vPkiWmrVzYmo"
      },
      "source": [
        "La importancia se mide com los resultados promedios en la permutación.\n",
        "\n",
        "Las 5 mas importantes son:\n",
        "\n",
        "1. Salud General (GenHlth)\n",
        "2. Indice de Masa Corporal (BMI)\n",
        "3. Edad (Age)\n",
        "4. Alta presión sanguínea (HighBP)\n",
        "5. Colesterol Alto (HichChol)\n",
        "\n",
        "\n",
        "Tienen sentido las features mas importantes considerando el contexto de diagnosticar diabétes. Estas estan relacionadas en general con salud del paciente respecto a la sangre y el peso. Además podemos ver que las dos mas importantes, que son salud general y edad, son variables que podrían ser indicadores de enfermedad del paciente para en cualquier diagnostico de enfermedad en general."
      ]
    },
    {
      "cell_type": "markdown",
      "metadata": {
        "cell_id": "bd24642fe85143b9bcdae0607e0bb2f6",
        "deepnote_cell_type": "markdown",
        "id": "4lR52BoIQy7R"
      },
      "source": [
        "## 5. Métodos Agnósticos Locales (2.0 puntos)\n",
        "\n",
        "<p align=\"center\">\n",
        "  <img src=\"https://i.makeagif.com/media/1-27-2017/fBrzT8.mp4\" width=\"400\">\n",
        "</p>"
      ]
    },
    {
      "cell_type": "markdown",
      "metadata": {
        "cell_id": "feffba3234c9428abbc9f7db957c5b64",
        "deepnote_cell_type": "markdown",
        "id": "NTeHLX8GQy7R"
      },
      "source": [
        "### 5.1 Calculando Shap Values (0.4 puntos)"
      ]
    },
    {
      "cell_type": "markdown",
      "metadata": {
        "cell_id": "3dd06a63b4b045c1ab3e51ac01e0fbc0",
        "deepnote_cell_type": "markdown",
        "id": "81G7bX8PQy7R"
      },
      "source": [
        "Tareas:\n",
        "1. Alegre por saber cómo funciona el modelo de predicción a nivel general, Dr. Simi le pide ahora interpretar las predicciones de su modelo a nivel de paciente (es decir, desde un punto de vista **local**). Para esto, el ilustre farmacéutico le pide calcular los *shap values* de su modelo.\n",
        "2. ¿Qué representa cada número en su resultado?\n",
        "3. ¿Es posible atribuir un significado a la positividad/negatividad de cada valor?"
      ]
    },
    {
      "cell_type": "code",
      "execution_count": 21,
      "metadata": {
        "cell_id": "dada61becc854fe4830665a1e1fcfb8b",
        "colab": {
          "base_uri": "https://localhost:8080/"
        },
        "deepnote_cell_type": "code",
        "deepnote_to_be_reexecuted": false,
        "execution_millis": 7982,
        "execution_start": 1686925464848,
        "id": "cahAA22RQy7R",
        "outputId": "7703f72e-5013-4437-ea09-7431e33d00ca",
        "source_hash": "5d97bad"
      },
      "outputs": [
        {
          "name": "stdout",
          "output_type": "stream",
          "text": [
            "Collecting shap\n",
            "  Downloading shap-0.45.1-cp310-cp310-manylinux_2_12_x86_64.manylinux2010_x86_64.manylinux_2_17_x86_64.manylinux2014_x86_64.whl (540 kB)\n",
            "\u001b[2K     \u001b[90m━━━━━━━━━━━━━━━━━━━━━━━━━━━━━━━━━━━━━━━━\u001b[0m \u001b[32m540.5/540.5 kB\u001b[0m \u001b[31m4.7 MB/s\u001b[0m eta \u001b[36m0:00:00\u001b[0m\n",
            "\u001b[?25hRequirement already satisfied: numpy in /usr/local/lib/python3.10/dist-packages (from shap) (1.25.2)\n",
            "Requirement already satisfied: scipy in /usr/local/lib/python3.10/dist-packages (from shap) (1.11.4)\n",
            "Requirement already satisfied: scikit-learn in /usr/local/lib/python3.10/dist-packages (from shap) (1.2.2)\n",
            "Requirement already satisfied: pandas in /usr/local/lib/python3.10/dist-packages (from shap) (2.0.3)\n",
            "Requirement already satisfied: tqdm>=4.27.0 in /usr/local/lib/python3.10/dist-packages (from shap) (4.66.4)\n",
            "Requirement already satisfied: packaging>20.9 in /usr/local/lib/python3.10/dist-packages (from shap) (24.0)\n",
            "Collecting slicer==0.0.8 (from shap)\n",
            "  Downloading slicer-0.0.8-py3-none-any.whl (15 kB)\n",
            "Requirement already satisfied: numba in /usr/local/lib/python3.10/dist-packages (from shap) (0.58.1)\n",
            "Requirement already satisfied: cloudpickle in /usr/local/lib/python3.10/dist-packages (from shap) (2.2.1)\n",
            "Requirement already satisfied: llvmlite<0.42,>=0.41.0dev0 in /usr/local/lib/python3.10/dist-packages (from numba->shap) (0.41.1)\n",
            "Requirement already satisfied: python-dateutil>=2.8.2 in /usr/local/lib/python3.10/dist-packages (from pandas->shap) (2.8.2)\n",
            "Requirement already satisfied: pytz>=2020.1 in /usr/local/lib/python3.10/dist-packages (from pandas->shap) (2023.4)\n",
            "Requirement already satisfied: tzdata>=2022.1 in /usr/local/lib/python3.10/dist-packages (from pandas->shap) (2024.1)\n",
            "Requirement already satisfied: joblib>=1.1.1 in /usr/local/lib/python3.10/dist-packages (from scikit-learn->shap) (1.4.2)\n",
            "Requirement already satisfied: threadpoolctl>=2.0.0 in /usr/local/lib/python3.10/dist-packages (from scikit-learn->shap) (3.5.0)\n",
            "Requirement already satisfied: six>=1.5 in /usr/local/lib/python3.10/dist-packages (from python-dateutil>=2.8.2->pandas->shap) (1.16.0)\n",
            "Installing collected packages: slicer, shap\n",
            "Successfully installed shap-0.45.1 slicer-0.0.8\n"
          ]
        }
      ],
      "source": [
        "!pip install shap"
      ]
    },
    {
      "cell_type": "code",
      "execution_count": 22,
      "metadata": {
        "cell_id": "c2d01e18bb9946579275006ac63f29f8",
        "deepnote_cell_type": "code",
        "deepnote_to_be_reexecuted": false,
        "execution_millis": 2,
        "execution_start": 1686884837621,
        "id": "S7bjY7XmQy7R",
        "source_hash": "7220fd12"
      },
      "outputs": [],
      "source": [
        "import warnings\n",
        "warnings.filterwarnings(\"ignore\", message=\".*The 'nopython' keyword.*\")"
      ]
    },
    {
      "cell_type": "code",
      "execution_count": 24,
      "metadata": {
        "cell_id": "28773926243a4632adf4ebe7f9b23c86",
        "deepnote_cell_type": "code",
        "deepnote_to_be_reexecuted": false,
        "execution_millis": 3,
        "execution_start": 1686930931899,
        "id": "1MLhkQu0Qy7S",
        "source_hash": "7b093107"
      },
      "outputs": [],
      "source": [
        "import shap\n",
        "\n",
        "explainer = shap.TreeExplainer(xgb_model)\n",
        "shap_values = explainer(X)\n"
      ]
    },
    {
      "cell_type": "code",
      "execution_count": 25,
      "metadata": {
        "colab": {
          "base_uri": "https://localhost:8080/"
        },
        "id": "q5YzyTm2-FQT",
        "outputId": "5520699a-ffe1-4908-a022-2d5cacab9ef0"
      },
      "outputs": [
        {
          "data": {
            "text/plain": [
              ".values =\n",
              "array([[ 0.11201978,  0.7506228 , -1.0816828 , ..., -0.06708741,\n",
              "        -0.03854996,  0.3984559 ],\n",
              "       [ 0.28273675,  0.59626526,  0.7885814 , ..., -0.00834626,\n",
              "         0.01861435,  0.30143595],\n",
              "       [ 0.02053212,  0.865728  , -0.53001815, ..., -0.07011151,\n",
              "        -0.02339401, -0.57731634],\n",
              "       ...,\n",
              "       [ 0.49972868, -0.10387094,  0.9416421 , ...,  0.11446242,\n",
              "         0.01845057,  0.41097286],\n",
              "       [-0.04066808, -0.17953661,  0.64566207, ...,  0.11115175,\n",
              "        -0.00709745,  0.3914314 ],\n",
              "       [ 0.29224557,  0.00567383,  0.7681424 , ...,  0.00998114,\n",
              "         0.01141114,  0.42091483]], dtype=float32)\n",
              "\n",
              ".base_values =\n",
              "array([-0.00636338, -0.00636338, -0.00636338, ..., -0.00636338,\n",
              "       -0.00636338, -0.00636338], dtype=float32)\n",
              "\n",
              ".data =\n",
              "array([[ 4.,  1.,  0., ...,  0.,  0.,  1.],\n",
              "       [12.,  1.,  1., ...,  0.,  1.,  1.],\n",
              "       [13.,  1.,  0., ...,  0.,  0.,  0.],\n",
              "       ...,\n",
              "       [13.,  0.,  1., ...,  1.,  0.,  1.],\n",
              "       [11.,  0.,  1., ...,  1.,  0.,  1.],\n",
              "       [ 9.,  0.,  1., ...,  0.,  0.,  1.]])"
            ]
          },
          "execution_count": 25,
          "metadata": {},
          "output_type": "execute_result"
        }
      ],
      "source": [
        "shap_values"
      ]
    },
    {
      "cell_type": "markdown",
      "metadata": {
        "cell_id": "ca1ccbeae2b2444d925329e0fd1c7bff",
        "deepnote_cell_type": "markdown",
        "id": "4aGmOtVPQy7S"
      },
      "source": [
        "### 5.2 Aporte local (0.4 puntos)"
      ]
    },
    {
      "cell_type": "markdown",
      "metadata": {
        "cell_id": "d1bd38afb30a418dad4d5229826459a3",
        "deepnote_cell_type": "markdown",
        "id": "-ucDyFmWQy7S"
      },
      "source": [
        "\n",
        "1. Usando los *shap values* calculados, grafique el **aporte** de las diferentes variables para las instancias **1**, **9** y **150**, interprete sus resultados y responda:\n",
        "\n",
        "  - ¿Qué variables afectan de manera positiva/negativa a la probabilidad de poseer diabetes?\n",
        "\n",
        "  - ¿Existe algún patrón común entre las instancias analizadas?\n",
        "\n",
        "  - ¿Es posible generalizar estas conclusiones a todo el dataset?"
      ]
    },
    {
      "cell_type": "code",
      "execution_count": 26,
      "metadata": {
        "cell_id": "114ead8d9d674348a6eb462b83e54f0b",
        "colab": {
          "base_uri": "https://localhost:8080/",
          "height": 390
        },
        "deepnote_cell_type": "code",
        "deepnote_to_be_reexecuted": false,
        "execution_millis": 2,
        "execution_start": 1686930940135,
        "id": "pFfuO9JqQy7S",
        "outputId": "accec9c2-bdf1-4229-d623-4d14db6bb63d",
        "source_hash": "5f8720eb"
      },
      "outputs": [
        {
          "name": "stdout",
          "output_type": "stream",
          "text": [
            "shap values:\t1\n"
          ]
        },
        {
          "ename": "ValueError",
          "evalue": "visualize() can only display Explanation objects (or arrays of them)!",
          "output_type": "error",
          "traceback": [
            "\u001b[0;31m---------------------------------------------------------------------------\u001b[0m",
            "\u001b[0;31mValueError\u001b[0m                                Traceback (most recent call last)",
            "\u001b[0;32m<ipython-input-26-597a18041f2c>\u001b[0m in \u001b[0;36m<cell line: 1>\u001b[0;34m()\u001b[0m\n\u001b[1;32m      1\u001b[0m \u001b[0;32mfor\u001b[0m \u001b[0mi\u001b[0m \u001b[0;32min\u001b[0m \u001b[0;34m[\u001b[0m\u001b[0;36m1\u001b[0m\u001b[0;34m,\u001b[0m\u001b[0;36m9\u001b[0m\u001b[0;34m,\u001b[0m\u001b[0;36m150\u001b[0m\u001b[0;34m]\u001b[0m\u001b[0;34m:\u001b[0m\u001b[0;34m\u001b[0m\u001b[0;34m\u001b[0m\u001b[0m\n\u001b[1;32m      2\u001b[0m     \u001b[0mprint\u001b[0m\u001b[0;34m(\u001b[0m\u001b[0;34mf\"shap values:\\t{i}\"\u001b[0m\u001b[0;34m)\u001b[0m\u001b[0;34m\u001b[0m\u001b[0;34m\u001b[0m\u001b[0m\n\u001b[0;32m----> 3\u001b[0;31m     \u001b[0mshap\u001b[0m\u001b[0;34m.\u001b[0m\u001b[0mforce_plot\u001b[0m\u001b[0;34m(\u001b[0m\u001b[0mexplainer\u001b[0m\u001b[0;34m.\u001b[0m\u001b[0mexpected_value\u001b[0m\u001b[0;34m,\u001b[0m \u001b[0mshap_values\u001b[0m\u001b[0;34m[\u001b[0m\u001b[0mi\u001b[0m\u001b[0;34m]\u001b[0m\u001b[0;34m,\u001b[0m \u001b[0mX_test\u001b[0m\u001b[0;34m.\u001b[0m\u001b[0miloc\u001b[0m\u001b[0;34m[\u001b[0m\u001b[0mi\u001b[0m\u001b[0;34m]\u001b[0m\u001b[0;34m,\u001b[0m \u001b[0mmatplotlib\u001b[0m\u001b[0;34m=\u001b[0m\u001b[0;32mTrue\u001b[0m\u001b[0;34m)\u001b[0m\u001b[0;34m\u001b[0m\u001b[0;34m\u001b[0m\u001b[0m\n\u001b[0m\u001b[1;32m      4\u001b[0m     \u001b[0mplt\u001b[0m\u001b[0;34m.\u001b[0m\u001b[0mshow\u001b[0m\u001b[0;34m(\u001b[0m\u001b[0;34m)\u001b[0m\u001b[0;34m\u001b[0m\u001b[0;34m\u001b[0m\u001b[0m\n",
            "\u001b[0;32m/usr/local/lib/python3.10/dist-packages/shap/plots/_force.py\u001b[0m in \u001b[0;36mforce\u001b[0;34m(base_value, shap_values, features, feature_names, out_names, link, plot_cmap, matplotlib, show, figsize, ordering_keys, ordering_keys_time_format, text_rotation, contribution_threshold)\u001b[0m\n\u001b[1;32m    136\u001b[0m \u001b[0;34m\u001b[0m\u001b[0m\n\u001b[1;32m    137\u001b[0m     \u001b[0;32mif\u001b[0m \u001b[0mtype\u001b[0m\u001b[0;34m(\u001b[0m\u001b[0mshap_values\u001b[0m\u001b[0;34m)\u001b[0m \u001b[0;34m!=\u001b[0m \u001b[0mnp\u001b[0m\u001b[0;34m.\u001b[0m\u001b[0mndarray\u001b[0m\u001b[0;34m:\u001b[0m\u001b[0;34m\u001b[0m\u001b[0;34m\u001b[0m\u001b[0m\n\u001b[0;32m--> 138\u001b[0;31m         \u001b[0;32mreturn\u001b[0m \u001b[0mvisualize\u001b[0m\u001b[0;34m(\u001b[0m\u001b[0mshap_values\u001b[0m\u001b[0;34m)\u001b[0m\u001b[0;34m\u001b[0m\u001b[0;34m\u001b[0m\u001b[0m\n\u001b[0m\u001b[1;32m    139\u001b[0m \u001b[0;34m\u001b[0m\u001b[0m\n\u001b[1;32m    140\u001b[0m     \u001b[0;31m# convert from a DataFrame or other types\u001b[0m\u001b[0;34m\u001b[0m\u001b[0;34m\u001b[0m\u001b[0m\n",
            "\u001b[0;32m/usr/local/lib/python3.10/dist-packages/shap/plots/_force.py\u001b[0m in \u001b[0;36mvisualize\u001b[0;34m(e, plot_cmap, matplotlib, figsize, show, ordering_keys, ordering_keys_time_format, text_rotation, min_perc)\u001b[0m\n\u001b[1;32m    426\u001b[0m         )\n\u001b[1;32m    427\u001b[0m     \u001b[0;32melse\u001b[0m\u001b[0;34m:\u001b[0m\u001b[0;34m\u001b[0m\u001b[0;34m\u001b[0m\u001b[0m\n\u001b[0;32m--> 428\u001b[0;31m         \u001b[0;32mraise\u001b[0m \u001b[0mValueError\u001b[0m\u001b[0;34m(\u001b[0m\u001b[0;34m\"visualize() can only display Explanation objects (or arrays of them)!\"\u001b[0m\u001b[0;34m)\u001b[0m\u001b[0;34m\u001b[0m\u001b[0;34m\u001b[0m\u001b[0m\n\u001b[0m\u001b[1;32m    429\u001b[0m \u001b[0;34m\u001b[0m\u001b[0m\n\u001b[1;32m    430\u001b[0m \u001b[0;34m\u001b[0m\u001b[0m\n",
            "\u001b[0;31mValueError\u001b[0m: visualize() can only display Explanation objects (or arrays of them)!"
          ]
        }
      ],
      "source": [
        "for i in [1,9,150]:\n",
        "    print(f\"shap values:\\t{i}\")\n",
        "    shap.force_plot(explainer.expected_value, shap_values[i], X_test.iloc[i], matplotlib=True)\n",
        "    plt.show()"
      ]
    },
    {
      "cell_type": "markdown",
      "metadata": {
        "cell_id": "717f41e3ccf143a483af4f350e510225",
        "deepnote_cell_type": "markdown",
        "id": "z34Bo3nuQy7T"
      },
      "source": [
        "### 5.3 Aporte global (0.4 puntos)"
      ]
    },
    {
      "cell_type": "markdown",
      "metadata": {
        "cell_id": "691dfe735fa644d5a8cac6e7053621ce",
        "deepnote_cell_type": "markdown",
        "id": "_-F3drm-Qy7T"
      },
      "source": [
        "Genere ahora una visualización donde se grafique el aporte de cada feature a nivel **global** e interprete sus resultados. ¿Qué diferencias existen con las conclusiones generadas a nivel de instancia?"
      ]
    },
    {
      "cell_type": "code",
      "execution_count": null,
      "metadata": {
        "cell_id": "54e88d349b7c476d82a95b977ce23fd4",
        "deepnote_cell_type": "code",
        "deepnote_to_be_reexecuted": false,
        "execution_millis": 4,
        "execution_start": 1686930956967,
        "id": "1cBZnPHHQy7T",
        "source_hash": "99e7a96a"
      },
      "outputs": [],
      "source": [
        "# Inserte código para generar gráficos de aporte global aquí"
      ]
    },
    {
      "cell_type": "markdown",
      "metadata": {
        "cell_id": "8c6e3e238a6c48719cd048ce9e5201d5",
        "deepnote_cell_type": "markdown",
        "id": "Vk7B9zHoQy7T"
      },
      "source": [
        "### 5.4 Scatter plot (0.4 puntos)\n"
      ]
    },
    {
      "cell_type": "markdown",
      "metadata": {
        "cell_id": "4cfe79b39ac646658225180063391369",
        "deepnote_cell_type": "markdown",
        "id": "b9RX6vCiQy7U"
      },
      "source": [
        "Grafique ahora un *scatterplot* entre los *shap values* y las primeras 5 features con mayor impacto global (un gráfico por cada feature), coloreando cada punto por la probabilidad de tener diabetes. ¿Qué puede concluir de sus resultados?"
      ]
    },
    {
      "cell_type": "code",
      "execution_count": null,
      "metadata": {
        "cell_id": "fe980bf5ee9c4cda84cb87db6e6f41dd",
        "deepnote_cell_type": "code",
        "deepnote_to_be_reexecuted": false,
        "execution_millis": 2,
        "execution_start": 1686930965534,
        "id": "lRlG8s2dQy7U",
        "source_hash": "80c98595"
      },
      "outputs": [],
      "source": [
        "# Inserte código para generar gráficos de feature vs shap value aquí"
      ]
    },
    {
      "cell_type": "markdown",
      "metadata": {
        "cell_id": "4204ce61132f4a91b465bd1324668ec4",
        "deepnote_cell_type": "markdown",
        "id": "724u-ijOQy7U"
      },
      "source": [
        "### 5.5 Partial Dependence Plot (0.4 puntos)"
      ]
    },
    {
      "cell_type": "markdown",
      "metadata": {
        "id": "SJBXLAR3HWhl"
      },
      "source": [
        "Finalmente, se le pide generar un gráfico del tipo Partial Dependence Plot para las mismas 5 variables con mayor impacto global usando una submuestra de 1000 observaciones. ¿Qué relación existe entre la salida promedio del modelo y cada feature analizada? ¿Son estas conclusiones generalizables para todo el conjunto de datos?"
      ]
    },
    {
      "cell_type": "code",
      "execution_count": null,
      "metadata": {
        "cell_id": "fe7a7b2e6f664d129fee9f64dd57f6bd",
        "deepnote_cell_type": "code",
        "deepnote_to_be_reexecuted": false,
        "execution_millis": 4,
        "execution_start": 1686930977674,
        "id": "tHKM8KHtQy7U",
        "source_hash": "4e0f176b"
      },
      "outputs": [],
      "source": [
        "# Inserte código para generar gráficos PDP aquí"
      ]
    },
    {
      "cell_type": "markdown",
      "metadata": {
        "cell_id": "22e4da384e83491e8e7c8dc9b875ad6b",
        "deepnote_cell_type": "markdown",
        "id": "i4tFPrFA4_O5"
      },
      "source": [
        "## 6. Sistema de Reglas! (1.0 punto)\n",
        "\n",
        "<p align=\"center\">\n",
        "  <img src=\"https://media.baamboozle.com/uploads/images/125978/1638281150_1380186_gif-url.gif\" width=\"400\">\n",
        "</p>"
      ]
    },
    {
      "cell_type": "markdown",
      "metadata": {
        "cell_id": "cbf4bdc66df14a948ee275be86501d4a",
        "deepnote_cell_type": "markdown",
        "id": "f_4NF0_V5XZ-"
      },
      "source": [
        "Después de todo el trabajo hecho, Dr. Simi le pide simplificar el funcionamiento de su modelo en un sistema de reglas que le permita explicar a sus clientes las predicciones que genera su modelo. En particular, Dr. Simi le pide explicar la decisión tomada para las observaciones **1000**, **3001** y **5751**. Con las reglas propuestas señale a **cuánta población** es posible explicar con estas reglas e indique la **precisión** que poseen las reglas en la totalidad de los datos. ¿Tienen sentido sus reglas propuestas para las observaciones?. Fundamente sus respuesta señalando el impacto que tienen sus reglas sobre todo el conjunto de datos."
      ]
    },
    {
      "cell_type": "code",
      "execution_count": null,
      "metadata": {
        "cell_id": "9e3327e11a104dd5917f594a5e10baee",
        "deepnote_cell_type": "code",
        "deepnote_to_be_reexecuted": false,
        "execution_millis": 21693,
        "execution_start": 1686885552805,
        "id": "arJkVfO9Qy7b",
        "outputId": "7bd03366-c005-4bb8-86ab-d60f4abb26cd",
        "source_hash": "e7a6b6c4",
        "tags": []
      },
      "outputs": [
        {
          "name": "stdout",
          "output_type": "stream",
          "text": [
            "Collecting alibi\n",
            "  Downloading alibi-0.9.2-py3-none-any.whl (524 kB)\n",
            "\u001b[2K     \u001b[90m━━━━━━━━━━━━━━━━━━━━━━━━━━━━━━━━━━━━━━\u001b[0m \u001b[32m524.2/524.2 kB\u001b[0m \u001b[31m29.8 MB/s\u001b[0m eta \u001b[36m0:00:00\u001b[0m\n",
            "\u001b[?25hRequirement already satisfied: spacy[lookups]<4.0.0,>=2.0.0 in /shared-libs/python3.10/py/lib/python3.10/site-packages (from alibi) (3.4.2)\n",
            "Requirement already satisfied: scipy<2.0.0,>=1.1.0 in /shared-libs/python3.10/py/lib/python3.10/site-packages (from alibi) (1.9.3)\n",
            "Collecting scikit-image<0.21,>=0.17.2\n",
            "  Downloading scikit_image-0.20.0-cp310-cp310-manylinux_2_17_x86_64.manylinux2014_x86_64.whl (13.2 MB)\n",
            "\u001b[2K     \u001b[90m━━━━━━━━━━━━━━━━━━━━━━━━━━━━━━━━━━━━━━━━\u001b[0m \u001b[32m13.2/13.2 MB\u001b[0m \u001b[31m67.8 MB/s\u001b[0m eta \u001b[36m0:00:00\u001b[0m\n",
            "\u001b[?25hRequirement already satisfied: blis<0.8.0 in /shared-libs/python3.10/py/lib/python3.10/site-packages (from alibi) (0.7.9)\n",
            "Requirement already satisfied: tqdm<5.0.0,>=4.28.1 in /shared-libs/python3.10/py/lib/python3.10/site-packages (from alibi) (4.64.1)\n",
            "Requirement already satisfied: Pillow<10.0,>=5.4.1 in /shared-libs/python3.10/py/lib/python3.10/site-packages (from alibi) (9.2.0)\n",
            "Requirement already satisfied: typing-extensions>=3.7.4.3 in /shared-libs/python3.10/py/lib/python3.10/site-packages (from alibi) (4.4.0)\n",
            "Requirement already satisfied: dill<0.4.0,>=0.3.0 in /shared-libs/python3.10/py/lib/python3.10/site-packages (from alibi) (0.3.5.1)\n",
            "Requirement already satisfied: requests<3.0.0,>=2.21.0 in /shared-libs/python3.10/py/lib/python3.10/site-packages (from alibi) (2.28.1)\n",
            "Requirement already satisfied: matplotlib<4.0.0,>=3.0.0 in /shared-libs/python3.10/py/lib/python3.10/site-packages (from alibi) (3.6.0)\n",
            "Requirement already satisfied: pandas<3.0.0,>=1.0.0 in /shared-libs/python3.10/py/lib/python3.10/site-packages (from alibi) (1.2.5)\n",
            "Requirement already satisfied: scikit-learn<2.0.0,>=1.0.0 in /shared-libs/python3.10/py/lib/python3.10/site-packages (from alibi) (1.1.2)\n",
            "Requirement already satisfied: numpy<2.0.0,>=1.16.2 in /shared-libs/python3.10/py/lib/python3.10/site-packages (from alibi) (1.23.4)\n",
            "Collecting transformers<5.0.0,>=4.7.0\n",
            "  Downloading transformers-4.30.2-py3-none-any.whl (7.2 MB)\n",
            "\u001b[2K     \u001b[90m━━━━━━━━━━━━━━━━━━━━━━━━━━━━━━━━━━━━━━━━\u001b[0m \u001b[32m7.2/7.2 MB\u001b[0m \u001b[31m85.6 MB/s\u001b[0m eta \u001b[36m0:00:00\u001b[0m\n",
            "\u001b[?25hRequirement already satisfied: attrs<24.0.0,>=19.2.0 in /shared-libs/python3.10/py-core/lib/python3.10/site-packages (from alibi) (22.1.0)\n",
            "Requirement already satisfied: fonttools>=4.22.0 in /shared-libs/python3.10/py/lib/python3.10/site-packages (from matplotlib<4.0.0,>=3.0.0->alibi) (4.37.4)\n",
            "Requirement already satisfied: kiwisolver>=1.0.1 in /shared-libs/python3.10/py/lib/python3.10/site-packages (from matplotlib<4.0.0,>=3.0.0->alibi) (1.4.4)\n",
            "Requirement already satisfied: cycler>=0.10 in /shared-libs/python3.10/py/lib/python3.10/site-packages (from matplotlib<4.0.0,>=3.0.0->alibi) (0.11.0)\n",
            "Requirement already satisfied: pyparsing>=2.2.1 in /shared-libs/python3.10/py-core/lib/python3.10/site-packages (from matplotlib<4.0.0,>=3.0.0->alibi) (3.0.9)\n",
            "Requirement already satisfied: contourpy>=1.0.1 in /shared-libs/python3.10/py/lib/python3.10/site-packages (from matplotlib<4.0.0,>=3.0.0->alibi) (1.0.5)\n",
            "Requirement already satisfied: packaging>=20.0 in /shared-libs/python3.10/py-core/lib/python3.10/site-packages (from matplotlib<4.0.0,>=3.0.0->alibi) (21.3)\n",
            "Requirement already satisfied: python-dateutil>=2.7 in /shared-libs/python3.10/py-core/lib/python3.10/site-packages (from matplotlib<4.0.0,>=3.0.0->alibi) (2.8.2)\n",
            "Requirement already satisfied: pytz>=2017.3 in /shared-libs/python3.10/py/lib/python3.10/site-packages (from pandas<3.0.0,>=1.0.0->alibi) (2022.5)\n",
            "Requirement already satisfied: idna<4,>=2.5 in /shared-libs/python3.10/py-core/lib/python3.10/site-packages (from requests<3.0.0,>=2.21.0->alibi) (3.4)\n",
            "Requirement already satisfied: charset-normalizer<3,>=2 in /shared-libs/python3.10/py-core/lib/python3.10/site-packages (from requests<3.0.0,>=2.21.0->alibi) (2.1.1)\n",
            "Requirement already satisfied: urllib3<1.27,>=1.21.1 in /shared-libs/python3.10/py/lib/python3.10/site-packages (from requests<3.0.0,>=2.21.0->alibi) (1.26.12)\n",
            "Requirement already satisfied: certifi>=2017.4.17 in /shared-libs/python3.10/py/lib/python3.10/site-packages (from requests<3.0.0,>=2.21.0->alibi) (2022.9.24)\n",
            "Collecting imageio>=2.4.1\n",
            "  Downloading imageio-2.31.1-py3-none-any.whl (313 kB)\n",
            "\u001b[2K     \u001b[90m━━━━━━━━━━━━━━━━━━━━━━━━━━━━━━━━━━━━━━\u001b[0m \u001b[32m313.2/313.2 kB\u001b[0m \u001b[31m50.2 MB/s\u001b[0m eta \u001b[36m0:00:00\u001b[0m\n",
            "\u001b[?25hCollecting tifffile>=2019.7.26\n",
            "  Downloading tifffile-2023.4.12-py3-none-any.whl (219 kB)\n",
            "\u001b[2K     \u001b[90m━━━━━━━━━━━━━━━━━━━━━━━━━━━━━━━━━━━━━━\u001b[0m \u001b[32m219.4/219.4 kB\u001b[0m \u001b[31m33.7 MB/s\u001b[0m eta \u001b[36m0:00:00\u001b[0m\n",
            "\u001b[?25hCollecting lazy_loader>=0.1\n",
            "  Downloading lazy_loader-0.2-py3-none-any.whl (8.6 kB)\n",
            "Collecting networkx>=2.8\n",
            "  Downloading networkx-3.1-py3-none-any.whl (2.1 MB)\n",
            "\u001b[2K     \u001b[90m━━━━━━━━━━━━━━━━━━━━━━━━━━━━━━━━━━━━━━━━\u001b[0m \u001b[32m2.1/2.1 MB\u001b[0m \u001b[31m84.5 MB/s\u001b[0m eta \u001b[36m0:00:00\u001b[0m\n",
            "\u001b[?25hCollecting PyWavelets>=1.1.1\n",
            "  Downloading PyWavelets-1.4.1-cp310-cp310-manylinux_2_17_x86_64.manylinux2014_x86_64.whl (6.8 MB)\n",
            "\u001b[2K     \u001b[90m━━━━━━━━━━━━━━━━━━━━━━━━━━━━━━━━━━━━━━━━\u001b[0m \u001b[32m6.8/6.8 MB\u001b[0m \u001b[31m91.2 MB/s\u001b[0m eta \u001b[36m0:00:00\u001b[0m\n",
            "\u001b[?25hRequirement already satisfied: threadpoolctl>=2.0.0 in /shared-libs/python3.10/py/lib/python3.10/site-packages (from scikit-learn<2.0.0,>=1.0.0->alibi) (3.1.0)\n",
            "Requirement already satisfied: joblib>=1.0.0 in /shared-libs/python3.10/py/lib/python3.10/site-packages (from scikit-learn<2.0.0,>=1.0.0->alibi) (1.2.0)\n",
            "Requirement already satisfied: preshed<3.1.0,>=3.0.2 in /shared-libs/python3.10/py/lib/python3.10/site-packages (from spacy[lookups]<4.0.0,>=2.0.0->alibi) (3.0.8)\n",
            "Requirement already satisfied: catalogue<2.1.0,>=2.0.6 in /shared-libs/python3.10/py/lib/python3.10/site-packages (from spacy[lookups]<4.0.0,>=2.0.0->alibi) (2.0.8)\n",
            "Requirement already satisfied: spacy-legacy<3.1.0,>=3.0.10 in /shared-libs/python3.10/py/lib/python3.10/site-packages (from spacy[lookups]<4.0.0,>=2.0.0->alibi) (3.0.10)\n",
            "Requirement already satisfied: langcodes<4.0.0,>=3.2.0 in /shared-libs/python3.10/py/lib/python3.10/site-packages (from spacy[lookups]<4.0.0,>=2.0.0->alibi) (3.3.0)\n",
            "Requirement already satisfied: wasabi<1.1.0,>=0.9.1 in /shared-libs/python3.10/py/lib/python3.10/site-packages (from spacy[lookups]<4.0.0,>=2.0.0->alibi) (0.10.1)\n",
            "Requirement already satisfied: thinc<8.2.0,>=8.1.0 in /shared-libs/python3.10/py/lib/python3.10/site-packages (from spacy[lookups]<4.0.0,>=2.0.0->alibi) (8.1.5)\n",
            "Requirement already satisfied: srsly<3.0.0,>=2.4.3 in /shared-libs/python3.10/py/lib/python3.10/site-packages (from spacy[lookups]<4.0.0,>=2.0.0->alibi) (2.4.5)\n",
            "Requirement already satisfied: murmurhash<1.1.0,>=0.28.0 in /shared-libs/python3.10/py/lib/python3.10/site-packages (from spacy[lookups]<4.0.0,>=2.0.0->alibi) (1.0.9)\n",
            "Requirement already satisfied: pathy>=0.3.5 in /shared-libs/python3.10/py/lib/python3.10/site-packages (from spacy[lookups]<4.0.0,>=2.0.0->alibi) (0.6.2)\n",
            "Requirement already satisfied: spacy-loggers<2.0.0,>=1.0.0 in /shared-libs/python3.10/py/lib/python3.10/site-packages (from spacy[lookups]<4.0.0,>=2.0.0->alibi) (1.0.3)\n",
            "Requirement already satisfied: pydantic!=1.8,!=1.8.1,<1.11.0,>=1.7.4 in /shared-libs/python3.10/py/lib/python3.10/site-packages (from spacy[lookups]<4.0.0,>=2.0.0->alibi) (1.10.2)\n",
            "Requirement already satisfied: typer<0.5.0,>=0.3.0 in /shared-libs/python3.10/py/lib/python3.10/site-packages (from spacy[lookups]<4.0.0,>=2.0.0->alibi) (0.4.2)\n",
            "Requirement already satisfied: setuptools in /root/venv/lib/python3.10/site-packages (from spacy[lookups]<4.0.0,>=2.0.0->alibi) (65.5.0)\n",
            "Requirement already satisfied: cymem<2.1.0,>=2.0.2 in /shared-libs/python3.10/py/lib/python3.10/site-packages (from spacy[lookups]<4.0.0,>=2.0.0->alibi) (2.0.7)\n",
            "Requirement already satisfied: jinja2 in /shared-libs/python3.10/py-core/lib/python3.10/site-packages (from spacy[lookups]<4.0.0,>=2.0.0->alibi) (2.11.3)\n",
            "Collecting spacy-lookups-data<1.1.0,>=1.0.3\n",
            "  Downloading spacy_lookups_data-1.0.3-py2.py3-none-any.whl (98.5 MB)\n",
            "\u001b[2K     \u001b[90m━━━━━━━━━━━━━━━━━━━━━━━━━━━━━━━━━━━━━━━━\u001b[0m \u001b[32m98.5/98.5 MB\u001b[0m \u001b[31m19.9 MB/s\u001b[0m eta \u001b[36m0:00:00\u001b[0m\n",
            "\u001b[?25hRequirement already satisfied: filelock in /shared-libs/python3.10/py/lib/python3.10/site-packages (from transformers<5.0.0,>=4.7.0->alibi) (3.8.0)\n",
            "Collecting safetensors>=0.3.1\n",
            "  Downloading safetensors-0.3.1-cp310-cp310-manylinux_2_17_x86_64.manylinux2014_x86_64.whl (1.3 MB)\n",
            "\u001b[2K     \u001b[90m━━━━━━━━━━━━━━━━━━━━━━━━━━━━━━━━━━━━━━━━\u001b[0m \u001b[32m1.3/1.3 MB\u001b[0m \u001b[31m81.0 MB/s\u001b[0m eta \u001b[36m0:00:00\u001b[0m\n",
            "\u001b[?25hCollecting pyyaml>=5.1\n",
            "  Downloading PyYAML-6.0-cp310-cp310-manylinux_2_5_x86_64.manylinux1_x86_64.manylinux_2_12_x86_64.manylinux2010_x86_64.whl (682 kB)\n",
            "\u001b[2K     \u001b[90m━━━━━━━━━━━━━━━━━━━━━━━━━━━━━━━━━━━━━━\u001b[0m \u001b[32m682.2/682.2 kB\u001b[0m \u001b[31m65.4 MB/s\u001b[0m eta \u001b[36m0:00:00\u001b[0m\n",
            "\u001b[?25hCollecting tokenizers!=0.11.3,<0.14,>=0.11.1\n",
            "  Downloading tokenizers-0.13.3-cp310-cp310-manylinux_2_17_x86_64.manylinux2014_x86_64.whl (7.8 MB)\n",
            "\u001b[2K     \u001b[90m━━━━━━━━━━━━━━━━━━━━━━━━━━━━━━━━━━━━━━━━\u001b[0m \u001b[32m7.8/7.8 MB\u001b[0m \u001b[31m82.6 MB/s\u001b[0m eta \u001b[36m0:00:00\u001b[0m\n",
            "\u001b[?25hCollecting huggingface-hub<1.0,>=0.14.1\n",
            "  Downloading huggingface_hub-0.15.1-py3-none-any.whl (236 kB)\n",
            "\u001b[2K     \u001b[90m━━━━━━━━━━━━━━━━━━━━━━━━━━━━━━━━━━━━━━\u001b[0m \u001b[32m236.8/236.8 kB\u001b[0m \u001b[31m42.5 MB/s\u001b[0m eta \u001b[36m0:00:00\u001b[0m\n",
            "\u001b[?25hRequirement already satisfied: regex!=2019.12.17 in /shared-libs/python3.10/py/lib/python3.10/site-packages (from transformers<5.0.0,>=4.7.0->alibi) (2022.9.13)\n",
            "Collecting fsspec\n",
            "  Downloading fsspec-2023.6.0-py3-none-any.whl (163 kB)\n",
            "\u001b[2K     \u001b[90m━━━━━━━━━━━━━━━━━━━━━━━━━━━━━━━━━━━━━━\u001b[0m \u001b[32m163.8/163.8 kB\u001b[0m \u001b[31m33.5 MB/s\u001b[0m eta \u001b[36m0:00:00\u001b[0m\n",
            "\u001b[?25hRequirement already satisfied: smart-open<6.0.0,>=5.2.1 in /shared-libs/python3.10/py/lib/python3.10/site-packages (from pathy>=0.3.5->spacy[lookups]<4.0.0,>=2.0.0->alibi) (5.2.1)\n",
            "Requirement already satisfied: six>=1.5 in /shared-libs/python3.10/py-core/lib/python3.10/site-packages (from python-dateutil>=2.7->matplotlib<4.0.0,>=3.0.0->alibi) (1.16.0)\n",
            "Requirement already satisfied: confection<1.0.0,>=0.0.1 in /shared-libs/python3.10/py/lib/python3.10/site-packages (from thinc<8.2.0,>=8.1.0->spacy[lookups]<4.0.0,>=2.0.0->alibi) (0.0.3)\n",
            "Requirement already satisfied: click<9.0.0,>=7.1.1 in /shared-libs/python3.10/py/lib/python3.10/site-packages (from typer<0.5.0,>=0.3.0->spacy[lookups]<4.0.0,>=2.0.0->alibi) (8.1.3)\n",
            "Requirement already satisfied: MarkupSafe>=0.23 in /shared-libs/python3.10/py-core/lib/python3.10/site-packages (from jinja2->spacy[lookups]<4.0.0,>=2.0.0->alibi) (2.0.0)\n",
            "Installing collected packages: tokenizers, safetensors, tifffile, spacy-lookups-data, pyyaml, PyWavelets, networkx, lazy_loader, imageio, fsspec, scikit-image, huggingface-hub, transformers, alibi\n",
            "Successfully installed PyWavelets-1.4.1 alibi-0.9.2 fsspec-2023.6.0 huggingface-hub-0.15.1 imageio-2.31.1 lazy_loader-0.2 networkx-3.1 pyyaml-6.0 safetensors-0.3.1 scikit-image-0.20.0 spacy-lookups-data-1.0.3 tifffile-2023.4.12 tokenizers-0.13.3 transformers-4.30.2\n",
            "\n",
            "\u001b[1m[\u001b[0m\u001b[34;49mnotice\u001b[0m\u001b[1;39;49m]\u001b[0m\u001b[39;49m A new release of pip is available: \u001b[0m\u001b[31;49m23.0.1\u001b[0m\u001b[39;49m -> \u001b[0m\u001b[32;49m23.1.2\u001b[0m\n",
            "\u001b[1m[\u001b[0m\u001b[34;49mnotice\u001b[0m\u001b[1;39;49m]\u001b[0m\u001b[39;49m To update, run: \u001b[0m\u001b[32;49mpip install --upgrade pip\u001b[0m\n"
          ]
        }
      ],
      "source": [
        "!pip install alibi"
      ]
    },
    {
      "cell_type": "code",
      "execution_count": null,
      "metadata": {
        "cell_id": "bb38bb05376b429297fb0b3618fec6d4",
        "deepnote_cell_type": "code",
        "deepnote_to_be_reexecuted": false,
        "execution_millis": 10473,
        "execution_start": 1686885694481,
        "id": "_ED-yF_hQy7b",
        "outputId": "323e7e2c-1e4b-4b2e-cc7b-d3cf1234e50a",
        "source_hash": "e4ec2c4b"
      },
      "outputs": [
        {
          "name": "stderr",
          "output_type": "stream",
          "text": [
            "2023-06-16 03:21:35.062920: I tensorflow/core/platform/cpu_feature_guard.cc:193] This TensorFlow binary is optimized with oneAPI Deep Neural Network Library (oneDNN) to use the following CPU instructions in performance-critical operations:  AVX2 FMA\n",
            "To enable them in other operations, rebuild TensorFlow with the appropriate compiler flags.\n",
            "2023-06-16 03:21:35.266905: W tensorflow/stream_executor/platform/default/dso_loader.cc:64] Could not load dynamic library 'libcudart.so.11.0'; dlerror: libcudart.so.11.0: cannot open shared object file: No such file or directory\n",
            "2023-06-16 03:21:35.266966: I tensorflow/stream_executor/cuda/cudart_stub.cc:29] Ignore above cudart dlerror if you do not have a GPU set up on your machine.\n",
            "2023-06-16 03:21:35.308521: E tensorflow/stream_executor/cuda/cuda_blas.cc:2981] Unable to register cuBLAS factory: Attempting to register factory for plugin cuBLAS when one has already been registered\n",
            "2023-06-16 03:21:38.061257: W tensorflow/stream_executor/platform/default/dso_loader.cc:64] Could not load dynamic library 'libnvinfer.so.7'; dlerror: libnvinfer.so.7: cannot open shared object file: No such file or directory\n",
            "2023-06-16 03:21:38.061396: W tensorflow/stream_executor/platform/default/dso_loader.cc:64] Could not load dynamic library 'libnvinfer_plugin.so.7'; dlerror: libnvinfer_plugin.so.7: cannot open shared object file: No such file or directory\n",
            "2023-06-16 03:21:38.061411: W tensorflow/compiler/tf2tensorrt/utils/py_utils.cc:38] TF-TRT Warning: Cannot dlopen some TensorRT libraries. If you would like to use Nvidia GPU with TensorRT, please make sure the missing libraries mentioned above are installed properly.\n",
            "2023-06-16 03:21:42.469713: W tensorflow/stream_executor/platform/default/dso_loader.cc:64] Could not load dynamic library 'libcuda.so.1'; dlerror: libcuda.so.1: cannot open shared object file: No such file or directory\n",
            "2023-06-16 03:21:42.469773: W tensorflow/stream_executor/cuda/cuda_driver.cc:263] failed call to cuInit: UNKNOWN ERROR (303)\n",
            "2023-06-16 03:21:42.469814: I tensorflow/stream_executor/cuda/cuda_diagnostics.cc:156] kernel driver does not appear to be running on this host (p-87110296-876e-426f-b91d-aaf681223468): /proc/driver/nvidia/version does not exist\n"
          ]
        }
      ],
      "source": [
        "from alibi.explainers import AnchorTabular"
      ]
    },
    {
      "cell_type": "code",
      "execution_count": null,
      "metadata": {
        "cell_id": "c51b7d6bfea74288b77cb73ba8c86978",
        "deepnote_cell_type": "code",
        "deepnote_to_be_reexecuted": false,
        "execution_millis": 76,
        "execution_start": 1686931515362,
        "id": "msFaoQBaQy7c",
        "source_hash": "51992da3"
      },
      "outputs": [],
      "source": [
        "# Inserte su código para generar sistema de reglas aquí\n",
        "\n",
        "idx = 1000\n",
        "# explicar predicción idx 1000\n",
        "\n",
        "idx = 3001\n",
        "# explicar predicción idx 3001\n",
        "\n",
        "idx = 5751\n",
        "# explicar predicción idx 5751"
      ]
    },
    {
      "cell_type": "markdown",
      "metadata": {
        "cell_id": "b358083895d844bbafee6969082e98db",
        "deepnote_cell_type": "markdown",
        "id": "0QvR_juJQy7c"
      },
      "source": [
        "# Retrospectiva... (1.0 puntos)"
      ]
    },
    {
      "cell_type": "markdown",
      "metadata": {
        "cell_id": "1db767e048bd4bf2bc86d9c49acc0c36",
        "deepnote_cell_type": "markdown",
        "id": "-5ljFheRQy7c"
      },
      "source": [
        "En base a los diferentes métodos que implementa y ha comentado en este laboratorio, comente qué métodos le permiten entregar mejores conclusiones para la tarea de clasificación de diabetes. Por otro lado, ¿qué métodos son más útiles para el problema del doctor Simi, métodos agnosticos locales o globales?"
      ]
    },
    {
      "cell_type": "markdown",
      "metadata": {
        "cell_id": "c841a2af491648f591108c7483afc66f",
        "deepnote_cell_type": "markdown",
        "id": "PVbQ8dyoQy7c"
      },
      "source": [
        "> Fundamente su Respuesta aquí"
      ]
    },
    {
      "cell_type": "markdown",
      "metadata": {
        "cell_id": "ad6f278e9e12463dbdde6a009cd0b97a",
        "deepnote_cell_type": "markdown",
        "id": "3CyhXoq9Qy7d"
      },
      "source": [
        "# Conclusión\n",
        "Eso ha sido todo para el lab de hoy, recuerden que el laboratorio tiene un plazo de entrega de una semana. Cualquier duda del laboratorio, no duden en contactarnos por mail o U-cursos.\n",
        "\n",
        "![Gracias Totales!](https://media.tenor.com/ctnq4bhZE3gAAAAC/drsimi-simi.gif)"
      ]
    },
    {
      "cell_type": "markdown",
      "metadata": {
        "created_in_deepnote_cell": true,
        "deepnote_cell_type": "markdown",
        "id": "arS9Nm9YQy7d"
      },
      "source": [
        "<a style='text-decoration:none;line-height:16px;display:flex;color:#5B5B62;padding:10px;justify-content:end;' href='https://deepnote.com?utm_source=created-in-deepnote-cell&projectId=87110296-876e-426f-b91d-aaf681223468' target=\"_blank\">\n",
        "<img alt='Created in deepnote.com' style='display:inline;max-height:16px;margin:0px;margin-right:7.5px;' src='data:image/svg+xml;base64,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' > </img>\n",
        "Created in <span style='font-weight:600;margin-left:4px;'>Deepnote</span></a>"
      ]
    }
  ],
  "metadata": {
    "colab": {
      "provenance": []
    },
    "deepnote": {},
    "deepnote_execution_queue": [],
    "deepnote_notebook_id": "0afd011ae5da4596ac4144fb27adc429",
    "deepnote_persisted_session": {
      "createdAt": "2023-06-16T16:30:21.663Z"
    },
    "kernelspec": {
      "display_name": "Python 3",
      "language": "python",
      "name": "python3"
    },
    "language_info": {
      "codemirror_mode": {
        "name": "ipython",
        "version": 3
      },
      "file_extension": ".py",
      "mimetype": "text/x-python",
      "name": "python",
      "nbconvert_exporter": "python",
      "pygments_lexer": "ipython3",
      "version": "3.9.18"
    },
    "toc": {
      "base_numbering": 1,
      "nav_menu": {},
      "number_sections": true,
      "sideBar": true,
      "skip_h1_title": true,
      "title_cell": "Tabla de Contenidos",
      "title_sidebar": "Contenidos",
      "toc_cell": false,
      "toc_position": {
        "height": "calc(100% - 180px)",
        "left": "10px",
        "top": "150px",
        "width": "241.867px"
      },
      "toc_section_display": true,
      "toc_window_display": true
    },
    "varInspector": {
      "cols": {
        "lenName": 16,
        "lenType": 16,
        "lenVar": 40
      },
      "kernels_config": {
        "python": {
          "delete_cmd_postfix": "",
          "delete_cmd_prefix": "del ",
          "library": "var_list.py",
          "varRefreshCmd": "print(var_dic_list())"
        },
        "r": {
          "delete_cmd_postfix": ") ",
          "delete_cmd_prefix": "rm(",
          "library": "var_list.r",
          "varRefreshCmd": "cat(var_dic_list()) "
        }
      },
      "types_to_exclude": [
        "module",
        "function",
        "builtin_function_or_method",
        "instance",
        "_Feature"
      ],
      "window_display": false
    }
  },
  "nbformat": 4,
  "nbformat_minor": 0
}
